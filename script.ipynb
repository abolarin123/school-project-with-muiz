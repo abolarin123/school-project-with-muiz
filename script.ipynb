{
 "cells": [
  {
   "cell_type": "code",
<<<<<<< HEAD
   "execution_count": 24,
=======
   "execution_count": null,
>>>>>>> ea663bcfdfed37b969198bc0761e9b30c800522e
   "metadata": {},
   "outputs": [],
   "source": [
    "! pip install Flask\n"
   ]
  },
  {
   "cell_type": "code",
<<<<<<< HEAD
   "execution_count": 25,
=======
   "execution_count": null,
>>>>>>> ea663bcfdfed37b969198bc0761e9b30c800522e
   "metadata": {},
   "outputs": [],
   "source": [
    "! pip install import_ipynb"
   ]
  },
  {
   "cell_type": "code",
<<<<<<< HEAD
   "execution_count": 26,
=======
   "execution_count": null,
>>>>>>> ea663bcfdfed37b969198bc0761e9b30c800522e
   "metadata": {},
   "outputs": [
    {
     "name": "stdout",
     "output_type": "stream",
     "text": [
      "Requirement already satisfied: pymysql in c:\\users\\kikel\\appdata\\local\\programs\\python\\python313\\lib\\site-packages (1.1.1)\n"
     ]
    },
    {
     "name": "stderr",
     "output_type": "stream",
     "text": [
      "\n",
      "[notice] A new release of pip is available: 24.3.1 -> 25.0\n",
      "[notice] To update, run: python.exe -m pip install --upgrade pip\n"
     ]
    }
   ],
   "source": [
    "! pip install pymysql"
   ]
  },
  {
   "cell_type": "code",
<<<<<<< HEAD
   "execution_count": 27,
=======
   "execution_count": null,
>>>>>>> ea663bcfdfed37b969198bc0761e9b30c800522e
   "metadata": {},
   "outputs": [
    {
     "name": "stdout",
     "output_type": "stream",
     "text": [
      "Requirement already satisfied: WTForms in c:\\users\\kikel\\appdata\\local\\programs\\python\\python313\\lib\\site-packages (3.2.1)\n",
      "Requirement already satisfied: markupsafe in c:\\users\\kikel\\appdata\\local\\programs\\python\\python313\\lib\\site-packages (from WTForms) (3.0.2)\n"
     ]
    },
    {
     "name": "stderr",
     "output_type": "stream",
     "text": [
      "\n",
      "[notice] A new release of pip is available: 24.3.1 -> 25.0\n",
      "[notice] To update, run: python.exe -m pip install --upgrade pip\n"
     ]
    }
   ],
   "source": [
    "! pip install WTForms"
   ]
  },
  {
   "cell_type": "code",
<<<<<<< HEAD
   "execution_count": 28,
=======
   "execution_count": null,
>>>>>>> ea663bcfdfed37b969198bc0761e9b30c800522e
   "metadata": {},
   "outputs": [
    {
     "name": "stdout",
     "output_type": "stream",
     "text": [
      "Requirement already satisfied: mysqlclient in c:\\users\\kikel\\appdata\\local\\programs\\python\\python313\\lib\\site-packages (2.2.6)\n"
     ]
    },
    {
     "name": "stderr",
     "output_type": "stream",
     "text": [
      "\n",
      "[notice] A new release of pip is available: 24.3.1 -> 25.0\n",
      "[notice] To update, run: python.exe -m pip install --upgrade pip\n"
     ]
    }
   ],
   "source": [
    "! pip install mysqlclient"
   ]
  },
  {
   "cell_type": "code",
<<<<<<< HEAD
   "execution_count": 29,
=======
   "execution_count": null,
>>>>>>> ea663bcfdfed37b969198bc0761e9b30c800522e
   "metadata": {},
   "outputs": [
    {
     "name": "stdout",
     "output_type": "stream",
     "text": [
      "Requirement already satisfied: flask-mysqldb in c:\\users\\kikel\\appdata\\local\\programs\\python\\python313\\lib\\site-packages (2.0.0)\n",
      "Requirement already satisfied: Flask>=1.0.4 in c:\\users\\kikel\\appdata\\local\\programs\\python\\python313\\lib\\site-packages (from flask-mysqldb) (3.0.3)\n",
      "Requirement already satisfied: mysqlclient>=2.2.0 in c:\\users\\kikel\\appdata\\local\\programs\\python\\python313\\lib\\site-packages (from flask-mysqldb) (2.2.6)\n",
      "Requirement already satisfied: Werkzeug>=3.0.0 in c:\\users\\kikel\\appdata\\local\\programs\\python\\python313\\lib\\site-packages (from Flask>=1.0.4->flask-mysqldb) (3.0.6)\n",
      "Requirement already satisfied: Jinja2>=3.1.2 in c:\\users\\kikel\\appdata\\local\\programs\\python\\python313\\lib\\site-packages (from Flask>=1.0.4->flask-mysqldb) (3.1.4)\n",
      "Requirement already satisfied: itsdangerous>=2.1.2 in c:\\users\\kikel\\appdata\\local\\programs\\python\\python313\\lib\\site-packages (from Flask>=1.0.4->flask-mysqldb) (2.2.0)\n",
      "Requirement already satisfied: click>=8.1.3 in c:\\users\\kikel\\appdata\\local\\programs\\python\\python313\\lib\\site-packages (from Flask>=1.0.4->flask-mysqldb) (8.1.7)\n",
      "Requirement already satisfied: blinker>=1.6.2 in c:\\users\\kikel\\appdata\\local\\programs\\python\\python313\\lib\\site-packages (from Flask>=1.0.4->flask-mysqldb) (1.8.2)\n",
      "Requirement already satisfied: colorama in c:\\users\\kikel\\appdata\\roaming\\python\\python313\\site-packages (from click>=8.1.3->Flask>=1.0.4->flask-mysqldb) (0.4.6)\n",
      "Requirement already satisfied: MarkupSafe>=2.0 in c:\\users\\kikel\\appdata\\local\\programs\\python\\python313\\lib\\site-packages (from Jinja2>=3.1.2->Flask>=1.0.4->flask-mysqldb) (3.0.2)\n"
     ]
    },
    {
     "name": "stderr",
     "output_type": "stream",
     "text": [
      "\n",
      "[notice] A new release of pip is available: 24.3.1 -> 25.0\n",
      "[notice] To update, run: python.exe -m pip install --upgrade pip\n"
     ]
    }
   ],
   "source": [
    "! pip install flask-mysqldb\n"
   ]
  },
  {
   "cell_type": "code",
<<<<<<< HEAD
   "execution_count": 30,
=======
   "execution_count": null,
>>>>>>> ea663bcfdfed37b969198bc0761e9b30c800522e
   "metadata": {},
   "outputs": [],
   "source": [
    "! pip install flask-login"
   ]
  },
  {
   "cell_type": "code",
<<<<<<< HEAD
   "execution_count": 31,
=======
   "execution_count": null,
>>>>>>> ea663bcfdfed37b969198bc0761e9b30c800522e
   "metadata": {},
   "outputs": [
    {
     "name": "stdout",
     "output_type": "stream",
     "text": [
      "asttokens==2.4.1\n",
      "attrs==24.2.0\n",
      "bcrypt==4.2.1\n",
      "blinker==1.8.2\n",
      "click==8.1.7\n",
      "colorama==0.4.6\n",
      "comm==0.2.2\n",
      "debugpy==1.8.7\n",
      "decorator==5.1.1\n",
      "dnspython==2.7.0\n",
      "email_validator==2.2.0\n",
      "executing==2.1.0\n",
      "fastjsonschema==2.21.0\n",
      "Flask==3.0.3\n",
      "Flask-Bcrypt==1.0.1\n",
      "Flask-Login==0.6.3\n",
      "Flask-MySQLdb==2.0.0\n",
      "idna==3.10\n",
      "import-ipynb==0.2\n",
      "ipykernel==6.29.5\n",
      "ipython==8.29.0\n",
      "itsdangerous==2.2.0\n",
      "jedi==0.19.1\n",
      "Jinja2==3.1.4\n",
      "jsonschema==4.23.0\n",
      "jsonschema-specifications==2024.10.1\n",
      "jupyter_client==8.6.3\n",
      "jupyter_core==5.7.2\n",
      "MarkupSafe==3.0.2\n",
      "matplotlib-inline==0.1.7\n",
      "mysql-connector==2.2.9\n",
      "mysql-connector-python==9.1.0\n",
      "mysql-connector-python-rf==2.2.2\n",
      "mysqlclient==2.2.6\n",
      "nbformat==5.10.4\n",
      "nest-asyncio==1.6.0\n",
      "packaging==24.1\n",
      "parso==0.8.4\n",
      "platformdirs==4.3.6\n",
      "prompt_toolkit==3.0.48\n",
      "psutil==6.1.0\n",
      "pure_eval==0.2.3\n",
      "Pygments==2.18.0\n",
      "PyMySQL==1.1.1\n",
      "python-dateutil==2.9.0.post0\n",
      "pywin32==308\n",
      "pyzmq==26.2.0\n",
      "referencing==0.35.1\n",
      "rpds-py==0.21.0\n",
      "six==1.16.0\n",
      "stack-data==0.6.3\n",
      "tornado==6.4.1\n",
      "traitlets==5.14.3\n",
      "wcwidth==0.2.13\n",
      "Werkzeug==3.0.6\n",
      "WTForms==3.2.1\n"
     ]
    }
   ],
   "source": [
    "! pip freeze"
   ]
  },
  {
   "cell_type": "code",
<<<<<<< HEAD
   "execution_count": 32,
=======
   "execution_count": null,
>>>>>>> ea663bcfdfed37b969198bc0761e9b30c800522e
   "metadata": {},
   "outputs": [
    {
     "name": "stdout",
     "output_type": "stream",
     "text": [
      "Requirement already satisfied: flask-login in c:\\users\\kikel\\appdata\\local\\programs\\python\\python313\\lib\\site-packages (0.6.3)\n",
      "Requirement already satisfied: Flask>=1.0.4 in c:\\users\\kikel\\appdata\\local\\programs\\python\\python313\\lib\\site-packages (from flask-login) (3.0.3)\n",
      "Requirement already satisfied: Werkzeug>=1.0.1 in c:\\users\\kikel\\appdata\\local\\programs\\python\\python313\\lib\\site-packages (from flask-login) (3.0.6)\n",
      "Requirement already satisfied: Jinja2>=3.1.2 in c:\\users\\kikel\\appdata\\local\\programs\\python\\python313\\lib\\site-packages (from Flask>=1.0.4->flask-login) (3.1.4)\n",
      "Requirement already satisfied: itsdangerous>=2.1.2 in c:\\users\\kikel\\appdata\\local\\programs\\python\\python313\\lib\\site-packages (from Flask>=1.0.4->flask-login) (2.2.0)\n",
      "Requirement already satisfied: click>=8.1.3 in c:\\users\\kikel\\appdata\\local\\programs\\python\\python313\\lib\\site-packages (from Flask>=1.0.4->flask-login) (8.1.7)\n",
      "Requirement already satisfied: blinker>=1.6.2 in c:\\users\\kikel\\appdata\\local\\programs\\python\\python313\\lib\\site-packages (from Flask>=1.0.4->flask-login) (1.8.2)\n",
      "Requirement already satisfied: MarkupSafe>=2.1.1 in c:\\users\\kikel\\appdata\\local\\programs\\python\\python313\\lib\\site-packages (from Werkzeug>=1.0.1->flask-login) (3.0.2)\n",
      "Requirement already satisfied: colorama in c:\\users\\kikel\\appdata\\roaming\\python\\python313\\site-packages (from click>=8.1.3->Flask>=1.0.4->flask-login) (0.4.6)\n"
     ]
    },
    {
     "name": "stderr",
     "output_type": "stream",
     "text": [
      "\n",
      "[notice] A new release of pip is available: 24.3.1 -> 25.0\n",
      "[notice] To update, run: python.exe -m pip install --upgrade pip\n"
     ]
    }
   ],
   "source": [
    "! pip install flask-login"
   ]
  },
  {
   "cell_type": "code",
<<<<<<< HEAD
   "execution_count": 33,
=======
   "execution_count": null,
>>>>>>> ea663bcfdfed37b969198bc0761e9b30c800522e
   "metadata": {},
   "outputs": [
    {
     "name": "stdout",
     "output_type": "stream",
     "text": [
      "Requirement already satisfied: Flask-Bcrypt in c:\\users\\kikel\\appdata\\local\\programs\\python\\python313\\lib\\site-packages (1.0.1)\n",
      "Requirement already satisfied: Flask in c:\\users\\kikel\\appdata\\local\\programs\\python\\python313\\lib\\site-packages (from Flask-Bcrypt) (3.0.3)\n",
      "Requirement already satisfied: bcrypt>=3.1.1 in c:\\users\\kikel\\appdata\\local\\programs\\python\\python313\\lib\\site-packages (from Flask-Bcrypt) (4.2.1)\n",
      "Requirement already satisfied: Werkzeug>=3.0.0 in c:\\users\\kikel\\appdata\\local\\programs\\python\\python313\\lib\\site-packages (from Flask->Flask-Bcrypt) (3.0.6)\n",
      "Requirement already satisfied: Jinja2>=3.1.2 in c:\\users\\kikel\\appdata\\local\\programs\\python\\python313\\lib\\site-packages (from Flask->Flask-Bcrypt) (3.1.4)\n",
      "Requirement already satisfied: itsdangerous>=2.1.2 in c:\\users\\kikel\\appdata\\local\\programs\\python\\python313\\lib\\site-packages (from Flask->Flask-Bcrypt) (2.2.0)\n",
      "Requirement already satisfied: click>=8.1.3 in c:\\users\\kikel\\appdata\\local\\programs\\python\\python313\\lib\\site-packages (from Flask->Flask-Bcrypt) (8.1.7)\n",
      "Requirement already satisfied: blinker>=1.6.2 in c:\\users\\kikel\\appdata\\local\\programs\\python\\python313\\lib\\site-packages (from Flask->Flask-Bcrypt) (1.8.2)\n",
      "Requirement already satisfied: colorama in c:\\users\\kikel\\appdata\\roaming\\python\\python313\\site-packages (from click>=8.1.3->Flask->Flask-Bcrypt) (0.4.6)\n",
      "Requirement already satisfied: MarkupSafe>=2.0 in c:\\users\\kikel\\appdata\\local\\programs\\python\\python313\\lib\\site-packages (from Jinja2>=3.1.2->Flask->Flask-Bcrypt) (3.0.2)\n"
     ]
    },
    {
     "name": "stderr",
     "output_type": "stream",
     "text": [
      "\n",
      "[notice] A new release of pip is available: 24.3.1 -> 25.0\n",
      "[notice] To update, run: python.exe -m pip install --upgrade pip\n"
     ]
    }
   ],
   "source": [
    "! pip install Flask-Bcrypt "
   ]
  },
  {
   "cell_type": "code",
<<<<<<< HEAD
   "execution_count": 34,
=======
   "execution_count": null,
>>>>>>> ea663bcfdfed37b969198bc0761e9b30c800522e
   "metadata": {},
   "outputs": [],
   "source": [
    "from flask import Flask, request, render_template, redirect, url_for, jsonify, flash\n",
    "import import_ipynb\n",
    "import forms, hashlib \n",
    "from flask_mysqldb import MySQL\n",
    "from werkzeug.security import generate_password_hash, check_password_hash\n",
    "from flask_bcrypt import Bcrypt \n",
    "from IPython.display import display, HTML\n",
    "from flask_login import LoginManager,UserMixin,login_user,logout_user,login_required,current_user"
   ]
  },
  {
   "cell_type": "code",
<<<<<<< HEAD
   "execution_count": 35,
=======
   "execution_count": null,
>>>>>>> ea663bcfdfed37b969198bc0761e9b30c800522e
   "metadata": {},
   "outputs": [],
   "source": [
    "# intilize flask application\n",
    "app = Flask(__name__)\n",
    "bcrypt = Bcrypt(app) "
   ]
  },
  {
   "cell_type": "code",
<<<<<<< HEAD
   "execution_count": 36,
=======
   "execution_count": null,
>>>>>>> ea663bcfdfed37b969198bc0761e9b30c800522e
   "metadata": {},
   "outputs": [],
   "source": [
    "app.config[\"SECRET_KEY\"]=\"Hola como etas muy bein y tu?\"\n",
    "app.config['MYSQL_HOST']=\"localhost\"\n",
    "app.config[\"MYSQL_USER\"]=\"root\"\n",
    "app.config[\"MYSQL_PASSWORD\"]=\"\"\n",
    "app.config[\"MYSQL_DB\"]=\"schoolapp\""
   ]
  },
  {
   "cell_type": "code",
<<<<<<< HEAD
   "execution_count": 37,
=======
   "execution_count": null,
>>>>>>> ea663bcfdfed37b969198bc0761e9b30c800522e
   "metadata": {},
   "outputs": [],
   "source": [
    "mysql = MySQL(app)"
   ]
  },
  {
   "cell_type": "code",
<<<<<<< HEAD
   "execution_count": 38,
=======
   "execution_count": null,
>>>>>>> ea663bcfdfed37b969198bc0761e9b30c800522e
   "metadata": {},
   "outputs": [],
   "source": [
    "login_manager=LoginManager()\n",
    "login_manager.init_app(app)\n",
    "login_manager.login_view=\"login\""
   ]
  },
  {
   "cell_type": "code",
<<<<<<< HEAD
   "execution_count": 39,
=======
   "execution_count": null,
>>>>>>> ea663bcfdfed37b969198bc0761e9b30c800522e
   "metadata": {},
   "outputs": [],
   "source": [
    "class User(UserMixin) :\n",
    "    def __init__(self,id,first_name,last_name,middle_name,email,password,gender,mobile_number,whatsapp_number,adress,city,state,country,profile_picture,role,status) :\n",
    "        self.id=id\n",
    "        self.first_name=first_name\n",
    "        self.last_name=last_name\n",
    "        self.middle_name=middle_name\n",
    "        self.email=email\n",
    "        self.password=password\n",
    "        self.gender=gender\n",
    "        self.mobile_number=mobile_number\n",
    "        self.whatsapp_number=whatsapp_number\n",
    "        self.adrees=adress\n",
    "        self.city=city\n",
    "        self.state=state\n",
    "        self.country=country\n",
    "        self.profile_picture=profile_picture\n",
    "        self.role=role\n",
    "        self.status=status\n"
   ]
  },
  {
   "cell_type": "code",
<<<<<<< HEAD
   "execution_count": 40,
=======
   "execution_count": null,
>>>>>>> ea663bcfdfed37b969198bc0761e9b30c800522e
   "metadata": {},
   "outputs": [],
   "source": [
    "@login_manager.user_loader\n",
    "def load_user(user_id) :\n",
    "     sql=\"select * from users where users_id=%s\"\n",
    "     cursor=mysql.connection.cursor()\n",
    "     cursor.execute(sql,(user_id,))\n",
    "     user = cursor.fetchone()\n",
    "     cursor.close()\n",
    "     if user :\n",
    "          return User(user[0],user[1],user[2],user[3],user[4],user[5],user[6],user[7],user[8],user[9],user[10],user[11],user[12],user[13],user[14],user[15])\n"
   ]
  },
  {
   "cell_type": "code",
<<<<<<< HEAD
   "execution_count": 41,
=======
   "execution_count": null,
>>>>>>> ea663bcfdfed37b969198bc0761e9b30c800522e
   "metadata": {},
   "outputs": [],
   "source": [
    "@app.route(\"/\")\n",
    "def home():\n",
    "    return redirect(url_for(\"login\"))"
   ]
  },
  {
   "cell_type": "code",
<<<<<<< HEAD
   "execution_count": 42,
=======
   "execution_count": null,
>>>>>>> ea663bcfdfed37b969198bc0761e9b30c800522e
   "metadata": {},
   "outputs": [],
   "source": [
    "@app.route(\"/login\",methods=[\"GET\",\"POST\"])\n",
    "def login():\n",
    "    if request.method==\"POST\":\n",
    "        login_form=forms.LoginForm(request.form)\n",
    "        if login_form.validate():\n",
    "            user_data=request.form\n",
    "            email=user_data[\"email\"]\n",
    "            password=user_data[\"password\"]\n",
    "            sql=\"select * from users where email=%s\"\n",
    "            cursor=mysql.connection.cursor()\n",
    "            cursor.execute(sql,(email,))\n",
    "            account = cursor.fetchone()\n",
    "            if account and bcrypt.check_password_hash(account[5], password):\n",
    "                user_object=User(account[0],account[1],account[2],account[3],account[4],account[5],account[6],account[7],account[8],account[9],account[10],account[11],account[12],account[13],account[14],account[15])\n",
    "                login_user(user_object)\n",
    "                flash(\"Login successful\",\"success\")\n",
    "                return redirect(url_for(\"dashboard\"))\n",
    "            else :\n",
    "                flash(\"Invalid login credentials.\",\"error\")\n",
    "                return redirect(request.referrer)\n",
    "            cursor.close()\n",
    "            return jsonify(login_form.data)\n",
    "        else :\n",
    "            for field,errors in login_form.errors.items():\n",
    "                for error in errors:\n",
    "                    flash(f\"{field}: {error}\",\"error\")\n",
    "            return redirect(request.referrer)\n",
    "    else :\n",
    "        return render_template(\"auth/user.html\") "
   ]
  },
  {
   "cell_type": "code",
   "execution_count": null,
   "metadata": {},
   "outputs": [],
   "source": [
    "@app.route(\"/dashboard\", methods=[\"GET\",\"POST\"])\n",
    "@login_required\n",
    "def dashboard():\n",
    "    return render_template(\"pages/dashboard.html\", first_name=current_user.first_name, last_name=current_user.last_name, middle_name=current_user.middle_name, email=current_user.email, password=current_user.password, gender=current_user.gender, )\n"
   ]
  },
  {
   "cell_type": "code",
<<<<<<< HEAD
   "execution_count": 44,
=======
   "execution_count": null,
>>>>>>> ea663bcfdfed37b969198bc0761e9b30c800522e
   "metadata": {},
   "outputs": [],
   "source": [
    "@app.route(\"/logout\", methods=[\"GET\",\"POST\"])\n",
    "@login_required\n",
    "def logout():\n",
    "    logout_user()\n",
    "    flash(\"Logged out succesful\",\"Info\")\n",
    "    return redirect(url_for(\"login\"))"
   ]
  },
  {
   "cell_type": "code",
<<<<<<< HEAD
   "execution_count": 45,
=======
   "execution_count": null,
>>>>>>> ea663bcfdfed37b969198bc0761e9b30c800522e
   "metadata": {},
   "outputs": [],
   "source": [
    "\n",
    "@app.route(\"/register\",methods=[\"GET\",\"POST\"]) #lok\n",
    "def register(): #lol\n",
    "    if request.method==\"POST\": #lol\n",
    "        print(request.form) #lo\n",
    "        register_form=forms.RegistrationForm(request.form) #ol\n",
    "        print(register_form.data) #lo\n",
    "        if register_form.validate(): #lo\n",
    "            # return jsonify(register_form.data) #er\n",
    "            user_data= register_form.data #gdg//\n",
    "            first_name=user_data[\"first_name\"] #dfd\n",
    "            last_name=user_data[\"last_name\"] #dfg\n",
    "            middle_name=user_data[\"middle_name\"] #dff\n",
    "            email=user_data[\"email\"] #ggfd\n",
    "            password=user_data[\"password\"] #gffd\n",
    "            phone_number=user_data[\"phone_number\"] #fgd\n",
    "            # hash=hashlib.sha1(hash.encode()) #gfh\n",
    "            # password=hash.digest() #ghf\n",
    "            password =  bcrypt.generate_password_hash(password) #gh\n",
    "            cursor=mysql.connection.cursor() #gf\n",
    "            cursor.execute(\"select email from users where email=%s\",(email,)) #gf\n",
    "            account = cursor.fetchone() #gh\n",
    "            if account: #fg\n",
    "                flash(\"An account with this email already exist.\",\"error\")\n",
    "                return redirect(request.referrer)\n",
    "            else: # lol\n",
    "                cursor.execute(\"insert into users ( `first_name`, `last_name`, `middle_name`, `email`, `password`, `gender`, `mobile_number`, `whatsapp_number`, `address`, `city`, `state`, `country`, `profile_picture`, `role`, `status`)values(%s,%s,%s,%s,%s,%s,%s,%s,%s,%s,%s,%s,%s,%s,%s)\",(first_name,last_name,middle_name,email,password,'',phone_number,'','','','','','','users','active')) #pop\n",
    "                mysql.connection.commit() #kip\n",
    "                cursor.close() #lok\n",
    "                flash(\"Registration successful. Please Login.\",\"sucess\")\n",
    "                return redirect(url_for(\"login\")) #lo\n",
    "        else :\n",
    "            # return jsonify({\"errors\" : register_form.errors }), 400 #hi\n",
    "            # flash({\"errors\" : register_form.errors }) #hu\n",
    "            # return redirect(request.referrer) hi\n",
    "            for field,errors in register_form.errors.items():\n",
    "                for error in errors:\n",
    "                    flash(f\"{field}: {error}\",\"error\")\n",
    "            return redirect(request.referrer) #hi\n",
    "    else :\n",
    "        return render_template(\"auth/registartion.html\") #hello\n",
    "\n"
   ]
  },
  {
   "cell_type": "code",
   "execution_count": null,
   "metadata": {},
<<<<<<< HEAD
   "outputs": [
    {
     "name": "stdout",
     "output_type": "stream",
     "text": [
      " * Serving Flask app '__main__'\n",
      " * Debug mode: off\n"
     ]
    },
    {
     "name": "stderr",
     "output_type": "stream",
     "text": [
      "WARNING: This is a development server. Do not use it in a production deployment. Use a production WSGI server instead.\n",
      " * Running on http://127.0.0.1:5000\n",
      "Press CTRL+C to quit\n",
      "127.0.0.1 - - [14/Feb/2025 15:37:22] \"GET / HTTP/1.1\" 302 -\n",
      "127.0.0.1 - - [14/Feb/2025 15:37:22] \"GET /login HTTP/1.1\" 200 -\n",
      "127.0.0.1 - - [14/Feb/2025 15:37:39] \"POST /login HTTP/1.1\" 302 -\n",
      "127.0.0.1 - - [14/Feb/2025 15:37:39] \"GET /dashboard HTTP/1.1\" 200 -\n",
      "127.0.0.1 - - [14/Feb/2025 15:37:39] \"GET /profile.jpg HTTP/1.1\" 404 -\n",
      "127.0.0.1 - - [14/Feb/2025 15:37:39] \"GET /logo.png HTTP/1.1\" 404 -\n"
     ]
    }
   ],
=======
   "outputs": [],
>>>>>>> ea663bcfdfed37b969198bc0761e9b30c800522e
   "source": [
    "if __name__== \"__main__\":\n",
    "    app.run(debug=False)"
   ]
  }
 ],
 "metadata": {
  "kernelspec": {
   "display_name": "Python 3",
   "language": "python",
   "name": "python3"
  },
  "language_info": {
   "codemirror_mode": {
    "name": "ipython",
    "version": 3
   },
   "file_extension": ".py",
   "mimetype": "text/x-python",
   "name": "python",
   "nbconvert_exporter": "python",
   "pygments_lexer": "ipython3",
   "version": "3.13.0"
  }
 },
 "nbformat": 4,
 "nbformat_minor": 2
}
