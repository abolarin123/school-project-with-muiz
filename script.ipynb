{
 "cells": [
  {
   "cell_type": "code",
   "execution_count": null,
   "metadata": {},
   "outputs": [],
   "source": [
    "! pip install Flask\n"
   ]
  },
  {
   "cell_type": "code",
   "execution_count": null,
   "metadata": {},
   "outputs": [],
   "source": [
    "! pip install import_ipynb"
   ]
  },
  {
   "cell_type": "code",
   "execution_count": null,
   "metadata": {},
   "outputs": [],
   "source": [
    "! pip install pymysql"
   ]
  },
  {
   "cell_type": "code",
   "execution_count": null,
   "metadata": {},
   "outputs": [],
   "source": [
    "! pip install WTForms"
   ]
  },
  {
   "cell_type": "code",
   "execution_count": 23,
   "metadata": {},
   "outputs": [
    {
     "name": "stdout",
     "output_type": "stream",
     "text": [
      "Requirement already satisfied: flask-login in c:\\users\\abolarin\\appdata\\local\\programs\\python\\python312\\lib\\site-packages (0.6.3)\n",
      "Requirement already satisfied: Flask>=1.0.4 in c:\\users\\abolarin\\appdata\\local\\programs\\python\\python312\\lib\\site-packages (from flask-login) (3.0.3)\n",
      "Requirement already satisfied: Werkzeug>=1.0.1 in c:\\users\\abolarin\\appdata\\local\\programs\\python\\python312\\lib\\site-packages (from flask-login) (3.0.4)\n",
      "Requirement already satisfied: Jinja2>=3.1.2 in c:\\users\\abolarin\\appdata\\local\\programs\\python\\python312\\lib\\site-packages (from Flask>=1.0.4->flask-login) (3.1.4)\n",
      "Requirement already satisfied: itsdangerous>=2.1.2 in c:\\users\\abolarin\\appdata\\local\\programs\\python\\python312\\lib\\site-packages (from Flask>=1.0.4->flask-login) (2.2.0)\n",
      "Requirement already satisfied: click>=8.1.3 in c:\\users\\abolarin\\appdata\\local\\programs\\python\\python312\\lib\\site-packages (from Flask>=1.0.4->flask-login) (8.1.7)\n",
      "Requirement already satisfied: blinker>=1.6.2 in c:\\users\\abolarin\\appdata\\local\\programs\\python\\python312\\lib\\site-packages (from Flask>=1.0.4->flask-login) (1.8.2)\n",
      "Requirement already satisfied: MarkupSafe>=2.1.1 in c:\\users\\abolarin\\appdata\\local\\programs\\python\\python312\\lib\\site-packages (from Werkzeug>=1.0.1->flask-login) (2.1.5)\n",
      "Requirement already satisfied: colorama in c:\\users\\abolarin\\appdata\\roaming\\python\\python312\\site-packages (from click>=8.1.3->Flask>=1.0.4->flask-login) (0.4.6)\n"
     ]
    },
    {
     "name": "stderr",
     "output_type": "stream",
     "text": [
      "\n",
      "[notice] A new release of pip is available: 24.2 -> 24.3.1\n",
      "[notice] To update, run: python.exe -m pip install --upgrade pip\n"
     ]
    }
   ],
   "source": [
    "! pip install flask-login"
   ]
  },
  {
   "cell_type": "code",
   "execution_count": 24,
   "metadata": {},
   "outputs": [
    {
     "name": "stdout",
     "output_type": "stream",
     "text": [
      "asttokens==2.4.1\n",
      "attrs==24.2.0\n",
      "blinker==1.8.2\n",
      "cffi==1.17.1\n",
      "click==8.1.7\n",
      "colorama==0.4.6\n",
      "comm==0.2.2\n",
      "cryptography==43.0.3\n",
      "debugpy==1.8.5\n",
      "decorator==5.1.1\n",
      "dnspython==2.7.0\n",
      "email_validator==2.2.0\n",
      "executing==2.0.1\n",
      "fastjsonschema==2.20.0\n",
      "Flask==3.0.3\n",
      "Flask-Login==0.6.3\n",
      "Flask-MySQLdb==2.0.0\n",
      "Flask-SQLAlchemy==3.1.1\n",
      "greenlet==3.1.1\n",
      "idna==3.10\n",
      "import-ipynb==0.2\n",
      "ipykernel==6.29.5\n",
      "ipython==8.26.0\n",
      "itsdangerous==2.2.0\n",
      "jedi==0.19.1\n",
      "Jinja2==3.1.4\n",
      "jsonschema==4.23.0\n",
      "jsonschema-specifications==2024.10.1\n",
      "jupyter_client==8.6.2\n",
      "jupyter_core==5.7.2\n",
      "MarkupSafe==2.1.5\n",
      "matplotlib-inline==0.1.7\n",
      "mysql==0.0.3\n",
      "mysql-connector==2.2.9\n",
      "mysql-connector-python==9.1.0\n",
      "mysql-connector-python-rf==2.2.2\n",
      "mysqlclient==2.2.4\n",
      "nbformat==5.10.4\n",
      "nest-asyncio==1.6.0\n",
      "packaging==24.1\n",
      "parso==0.8.4\n",
      "platformdirs==4.2.2\n",
      "prompt_toolkit==3.0.47\n",
      "psutil==6.0.0\n",
      "pure_eval==0.2.3\n",
      "pycparser==2.22\n",
      "Pygments==2.18.0\n",
      "PyMySQL==1.1.1\n",
      "python-dateutil==2.9.0.post0\n",
      "pywin32==306\n",
      "pyzmq==26.2.0\n",
      "referencing==0.35.1\n",
      "rpds-py==0.20.0\n",
      "six==1.16.0\n",
      "SQLAlchemy==2.0.36\n",
      "stack-data==0.6.3\n",
      "tornado==6.4.1\n",
      "traitlets==5.14.3\n",
      "typing_extensions==4.12.2\n",
      "wcwidth==0.2.13\n",
      "Werkzeug==3.0.4\n",
      "WTForms==3.1.2\n"
     ]
    }
   ],
   "source": [
    "! pip freeze"
   ]
  },
  {
   "cell_type": "code",
   "execution_count": null,
   "metadata": {},
   "outputs": [],
   "source": [
    "from flask import Flask, request, render_template, redirect, url_for\n",
    "import import_ipynb\n",
    "import forms"
   ]
  },
  {
   "cell_type": "code",
   "execution_count": null,
   "metadata": {},
   "outputs": [],
   "source": [
    "# intilize flask application\n",
    "app = Flask(__name__)"
   ]
  },
  {
   "cell_type": "code",
   "execution_count": null,
   "metadata": {},
   "outputs": [],
   "source": [
    "@app.route(\"/\")\n",
    "def home():\n",
    "    return redirect(url_for(\"login\"))"
   ]
  },
  {
   "cell_type": "code",
   "execution_count": null,
   "metadata": {},
   "outputs": [],
   "source": [
    "@app.route(\"/login\",methods=[\"GET\",\"POST\"])\n",
    "def login():\n",
    "    if request.method==\"POST\":\n",
    "        pass\n",
    "    else :\n",
    "        return render_template(\"auth/user.html\")"
   ]
  },
  {
   "cell_type": "code",
   "execution_count": null,
   "metadata": {},
   "outputs": [],
   "source": [
    "@app.route(\"/register\",methods=[\"GET\",\"POST\"])\n",
    "def register():\n",
    "    if request.method==\"POST\":\n",
    "        print(request.form)\n",
    "        register_form=forms.RegistrationForm(request.form)\n",
    "        print(register_form)\n",
    "        if register_form.validate_on_submit():\n",
    "            return \"validated Succesfully\"\n",
    "        else :\n",
    "            return \"Invalid Data\"\n",
    "    else :\n",
    "        return render_template(\"auth/registartion.html\")\n",
    "\n"
   ]
  },
  {
   "cell_type": "code",
   "execution_count": null,
   "metadata": {},
   "outputs": [
    {
     "name": "stdout",
     "output_type": "stream",
     "text": [
      " * Serving Flask app '__main__'\n",
      " * Debug mode: off\n"
     ]
    },
    {
     "name": "stderr",
     "output_type": "stream",
     "text": [
      "WARNING: This is a development server. Do not use it in a production deployment. Use a production WSGI server instead.\n",
      " * Running on http://127.0.0.1:5000\n",
      "Press CTRL+C to quit\n",
      "127.0.0.1 - - [06/Dec/2024 11:52:03] \"GET /register HTTP/1.1\" 200 -\n",
      "127.0.0.1 - - [06/Dec/2024 11:52:23] \"POST /register HTTP/1.1\" 200 -\n"
     ]
    },
    {
     "name": "stdout",
     "output_type": "stream",
     "text": [
      "ImmutableMultiDict([('first_name', 'abolarin'), ('last_name', 'babatunde'), ('middle_name', 'seun'), ('email', 'abolarinbabatunde88@gmail.com'), ('password', '12345678'), ('confirm_password', '12345678'), ('phone_number', '08062402588')])\n",
      "<forms.RegistrationForm object at 0x000001BAB451BF50>\n"
     ]
    }
   ],
   "source": [
    "if __name__== \"__main__\":\n",
    "    app.run(debug=False)"
   ]
  }
 ],
 "metadata": {
  "kernelspec": {
   "display_name": "Python 3",
   "language": "python",
   "name": "python3"
  },
  "language_info": {
   "codemirror_mode": {
    "name": "ipython",
    "version": 3
   },
   "file_extension": ".py",
   "mimetype": "text/x-python",
   "name": "python",
   "nbconvert_exporter": "python",
   "pygments_lexer": "ipython3",
   "version": "3.12.6"
  }
 },
 "nbformat": 4,
 "nbformat_minor": 2
}
