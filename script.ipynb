{
 "cells": [
  {
   "cell_type": "code",
   "execution_count": 1,
   "metadata": {},
   "outputs": [
    {
     "name": "stdout",
     "output_type": "stream",
     "text": [
      "Collecting Flask\n",
      "  Downloading flask-3.0.3-py3-none-any.whl.metadata (3.2 kB)\n",
      "Collecting Werkzeug>=3.0.0 (from Flask)\n",
      "  Downloading werkzeug-3.0.6-py3-none-any.whl.metadata (3.7 kB)\n",
      "Collecting Jinja2>=3.1.2 (from Flask)\n",
      "  Downloading jinja2-3.1.4-py3-none-any.whl.metadata (2.6 kB)\n",
      "Collecting itsdangerous>=2.1.2 (from Flask)\n",
      "  Downloading itsdangerous-2.2.0-py3-none-any.whl.metadata (1.9 kB)\n",
      "Collecting click>=8.1.3 (from Flask)\n",
      "  Downloading click-8.1.7-py3-none-any.whl.metadata (3.0 kB)\n",
      "Collecting blinker>=1.6.2 (from Flask)\n",
      "  Downloading blinker-1.8.2-py3-none-any.whl.metadata (1.6 kB)\n",
      "Requirement already satisfied: colorama in c:\\users\\kikel\\appdata\\roaming\\python\\python313\\site-packages (from click>=8.1.3->Flask) (0.4.6)\n",
      "Collecting MarkupSafe>=2.0 (from Jinja2>=3.1.2->Flask)\n",
      "  Downloading MarkupSafe-3.0.2-cp313-cp313-win_amd64.whl.metadata (4.1 kB)\n",
      "Downloading flask-3.0.3-py3-none-any.whl (101 kB)\n",
      "Downloading blinker-1.8.2-py3-none-any.whl (9.5 kB)\n",
      "Downloading click-8.1.7-py3-none-any.whl (97 kB)\n",
      "Downloading itsdangerous-2.2.0-py3-none-any.whl (16 kB)\n",
      "Downloading jinja2-3.1.4-py3-none-any.whl (133 kB)\n",
      "Downloading werkzeug-3.0.6-py3-none-any.whl (227 kB)\n",
      "Downloading MarkupSafe-3.0.2-cp313-cp313-win_amd64.whl (15 kB)\n",
      "Installing collected packages: MarkupSafe, itsdangerous, click, blinker, Werkzeug, Jinja2, Flask\n",
      "Successfully installed Flask-3.0.3 Jinja2-3.1.4 MarkupSafe-3.0.2 Werkzeug-3.0.6 blinker-1.8.2 click-8.1.7 itsdangerous-2.2.0\n"
     ]
    }
   ],
   "source": [
    "! pip install Flask\n"
   ]
  },
  {
   "cell_type": "code",
   "execution_count": 2,
   "metadata": {},
   "outputs": [
    {
     "name": "stdout",
     "output_type": "stream",
     "text": [
      "Collecting pymysql\n",
      "  Downloading PyMySQL-1.1.1-py3-none-any.whl.metadata (4.4 kB)\n",
      "Downloading PyMySQL-1.1.1-py3-none-any.whl (44 kB)\n",
      "Installing collected packages: pymysql\n",
      "Successfully installed pymysql-1.1.1\n"
     ]
    }
   ],
   "source": [
    "! pip install pymysql"
   ]
  },
  {
   "cell_type": "code",
   "execution_count": 3,
   "metadata": {},
   "outputs": [
    {
     "name": "stdout",
     "output_type": "stream",
     "text": [
      "Collecting WTForms\n",
      "  Downloading wtforms-3.2.1-py3-none-any.whl.metadata (5.3 kB)\n",
      "Requirement already satisfied: markupsafe in c:\\users\\kikel\\appdata\\local\\programs\\python\\python313\\lib\\site-packages (from WTForms) (3.0.2)\n",
      "Downloading wtforms-3.2.1-py3-none-any.whl (152 kB)\n",
      "Installing collected packages: WTForms\n",
      "Successfully installed WTForms-3.2.1\n"
     ]
    }
   ],
   "source": [
    "! pip install WTForms"
   ]
  },
  {
   "cell_type": "code",
   "execution_count": 4,
   "metadata": {},
   "outputs": [
    {
     "name": "stdout",
     "output_type": "stream",
     "text": [
      "Collecting flask-login\n",
      "  Downloading Flask_Login-0.6.3-py3-none-any.whl.metadata (5.8 kB)\n",
      "Requirement already satisfied: Flask>=1.0.4 in c:\\users\\kikel\\appdata\\local\\programs\\python\\python313\\lib\\site-packages (from flask-login) (3.0.3)\n",
      "Requirement already satisfied: Werkzeug>=1.0.1 in c:\\users\\kikel\\appdata\\local\\programs\\python\\python313\\lib\\site-packages (from flask-login) (3.0.6)\n",
      "Requirement already satisfied: Jinja2>=3.1.2 in c:\\users\\kikel\\appdata\\local\\programs\\python\\python313\\lib\\site-packages (from Flask>=1.0.4->flask-login) (3.1.4)\n",
      "Requirement already satisfied: itsdangerous>=2.1.2 in c:\\users\\kikel\\appdata\\local\\programs\\python\\python313\\lib\\site-packages (from Flask>=1.0.4->flask-login) (2.2.0)\n",
      "Requirement already satisfied: click>=8.1.3 in c:\\users\\kikel\\appdata\\local\\programs\\python\\python313\\lib\\site-packages (from Flask>=1.0.4->flask-login) (8.1.7)\n",
      "Requirement already satisfied: blinker>=1.6.2 in c:\\users\\kikel\\appdata\\local\\programs\\python\\python313\\lib\\site-packages (from Flask>=1.0.4->flask-login) (1.8.2)\n",
      "Requirement already satisfied: MarkupSafe>=2.1.1 in c:\\users\\kikel\\appdata\\local\\programs\\python\\python313\\lib\\site-packages (from Werkzeug>=1.0.1->flask-login) (3.0.2)\n",
      "Requirement already satisfied: colorama in c:\\users\\kikel\\appdata\\roaming\\python\\python313\\site-packages (from click>=8.1.3->Flask>=1.0.4->flask-login) (0.4.6)\n",
      "Downloading Flask_Login-0.6.3-py3-none-any.whl (17 kB)\n",
      "Installing collected packages: flask-login\n",
      "Successfully installed flask-login-0.6.3\n"
     ]
    }
   ],
   "source": [
    "! pip install flask-login"
   ]
  },
  {
   "cell_type": "code",
   "execution_count": 5,
   "metadata": {},
   "outputs": [
    {
     "name": "stdout",
     "output_type": "stream",
     "text": [
      "asttokens==2.4.1\n",
      "blinker==1.8.2\n",
      "click==8.1.7\n",
      "colorama==0.4.6\n",
      "comm==0.2.2\n",
      "debugpy==1.8.7\n",
      "decorator==5.1.1\n",
      "executing==2.1.0\n",
      "Flask==3.0.3\n",
      "Flask-Login==0.6.3\n",
      "ipykernel==6.29.5\n",
      "ipython==8.29.0\n",
      "itsdangerous==2.2.0\n",
      "jedi==0.19.1\n",
      "Jinja2==3.1.4\n",
      "jupyter_client==8.6.3\n",
      "jupyter_core==5.7.2\n",
      "MarkupSafe==3.0.2\n",
      "matplotlib-inline==0.1.7\n",
      "nest-asyncio==1.6.0\n",
      "packaging==24.1\n",
      "parso==0.8.4\n",
      "platformdirs==4.3.6\n",
      "prompt_toolkit==3.0.48\n",
      "psutil==6.1.0\n",
      "pure_eval==0.2.3\n",
      "Pygments==2.18.0\n",
      "PyMySQL==1.1.1\n",
      "python-dateutil==2.9.0.post0\n",
      "pywin32==308\n",
      "pyzmq==26.2.0\n",
      "six==1.16.0\n",
      "stack-data==0.6.3\n",
      "tornado==6.4.1\n",
      "traitlets==5.14.3\n",
      "wcwidth==0.2.13\n",
      "Werkzeug==3.0.6\n",
      "WTForms==3.2.1\n"
     ]
    }
   ],
   "source": [
    "! pip freeze"
   ]
  },
  {
   "cell_type": "code",
   "execution_count": 11,
   "metadata": {},
   "outputs": [],
   "source": [
    "from flask import Flask"
   ]
  },
  {
   "cell_type": "code",
   "execution_count": 12,
   "metadata": {},
   "outputs": [],
   "source": [
    "# intilize flask application\n",
    "app = Flask(__name__)"
   ]
  },
  {
   "cell_type": "code",
   "execution_count": 13,
   "metadata": {},
   "outputs": [],
   "source": [
    "@app.route(\"/\")\n",
    "def home():\n",
    "    return \"<h1> Hello world </h1>\""
   ]
  },
  {
   "cell_type": "code",
   "execution_count": 9,
   "metadata": {},
   "outputs": [
    {
     "name": "stdout",
     "output_type": "stream",
     "text": [
      " * Serving Flask app '__main__'\n",
      " * Debug mode: off\n"
     ]
    },
    {
     "name": "stderr",
     "output_type": "stream",
     "text": [
      "WARNING: This is a development server. Do not use it in a production deployment. Use a production WSGI server instead.\n",
      " * Running on http://127.0.0.1:5000\n",
      "Press CTRL+C to quit\n",
      "127.0.0.1 - - [25/Oct/2024 16:50:34] \"GET / HTTP/1.1\" 200 -\n"
     ]
    }
   ],
   "source": [
    "if __name__== \"__main__\":\n",
    "    app.run(debug=False)"
   ]
  }
 ],
 "metadata": {
  "kernelspec": {
   "display_name": "Python 3",
   "language": "python",
   "name": "python3"
  },
  "language_info": {
   "codemirror_mode": {
    "name": "ipython",
    "version": 3
   },
   "file_extension": ".py",
   "mimetype": "text/x-python",
   "name": "python",
   "nbconvert_exporter": "python",
   "pygments_lexer": "ipython3",
   "version": "3.13.0"
  }
 },
 "nbformat": 4,
 "nbformat_minor": 2
}
