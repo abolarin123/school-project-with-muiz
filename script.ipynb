{
 "cells": [
  {
   "cell_type": "code",
   "execution_count": 17,
   "metadata": {},
   "outputs": [
    {
     "name": "stdout",
     "output_type": "stream",
     "text": [
      "Requirement already satisfied: Flask in c:\\users\\kikel\\appdata\\local\\programs\\python\\python313\\lib\\site-packages (3.0.3)\n",
      "Requirement already satisfied: Werkzeug>=3.0.0 in c:\\users\\kikel\\appdata\\local\\programs\\python\\python313\\lib\\site-packages (from Flask) (3.0.6)\n",
      "Requirement already satisfied: Jinja2>=3.1.2 in c:\\users\\kikel\\appdata\\local\\programs\\python\\python313\\lib\\site-packages (from Flask) (3.1.4)\n",
      "Requirement already satisfied: itsdangerous>=2.1.2 in c:\\users\\kikel\\appdata\\local\\programs\\python\\python313\\lib\\site-packages (from Flask) (2.2.0)\n",
      "Requirement already satisfied: click>=8.1.3 in c:\\users\\kikel\\appdata\\local\\programs\\python\\python313\\lib\\site-packages (from Flask) (8.1.7)\n",
      "Requirement already satisfied: blinker>=1.6.2 in c:\\users\\kikel\\appdata\\local\\programs\\python\\python313\\lib\\site-packages (from Flask) (1.8.2)\n",
      "Requirement already satisfied: colorama in c:\\users\\kikel\\appdata\\roaming\\python\\python313\\site-packages (from click>=8.1.3->Flask) (0.4.6)\n",
      "Requirement already satisfied: MarkupSafe>=2.0 in c:\\users\\kikel\\appdata\\local\\programs\\python\\python313\\lib\\site-packages (from Jinja2>=3.1.2->Flask) (3.0.2)\n"
     ]
    }
   ],
   "source": [
    "! pip install Flask\n"
   ]
  },
  {
   "cell_type": "code",
   "execution_count": 18,
   "metadata": {},
   "outputs": [
    {
     "name": "stdout",
     "output_type": "stream",
     "text": [
      "Requirement already satisfied: import_ipynb in c:\\users\\kikel\\appdata\\local\\programs\\python\\python313\\lib\\site-packages (0.2)\n",
      "Requirement already satisfied: IPython in c:\\users\\kikel\\appdata\\roaming\\python\\python313\\site-packages (from import_ipynb) (8.29.0)\n",
      "Requirement already satisfied: nbformat in c:\\users\\kikel\\appdata\\local\\programs\\python\\python313\\lib\\site-packages (from import_ipynb) (5.10.4)\n",
      "Requirement already satisfied: decorator in c:\\users\\kikel\\appdata\\roaming\\python\\python313\\site-packages (from IPython->import_ipynb) (5.1.1)\n",
      "Requirement already satisfied: jedi>=0.16 in c:\\users\\kikel\\appdata\\roaming\\python\\python313\\site-packages (from IPython->import_ipynb) (0.19.1)\n",
      "Requirement already satisfied: matplotlib-inline in c:\\users\\kikel\\appdata\\roaming\\python\\python313\\site-packages (from IPython->import_ipynb) (0.1.7)\n",
      "Requirement already satisfied: prompt-toolkit<3.1.0,>=3.0.41 in c:\\users\\kikel\\appdata\\roaming\\python\\python313\\site-packages (from IPython->import_ipynb) (3.0.48)\n",
      "Requirement already satisfied: pygments>=2.4.0 in c:\\users\\kikel\\appdata\\roaming\\python\\python313\\site-packages (from IPython->import_ipynb) (2.18.0)\n",
      "Requirement already satisfied: stack-data in c:\\users\\kikel\\appdata\\roaming\\python\\python313\\site-packages (from IPython->import_ipynb) (0.6.3)\n",
      "Requirement already satisfied: traitlets>=5.13.0 in c:\\users\\kikel\\appdata\\roaming\\python\\python313\\site-packages (from IPython->import_ipynb) (5.14.3)\n",
      "Requirement already satisfied: colorama in c:\\users\\kikel\\appdata\\roaming\\python\\python313\\site-packages (from IPython->import_ipynb) (0.4.6)\n",
      "Requirement already satisfied: fastjsonschema>=2.15 in c:\\users\\kikel\\appdata\\local\\programs\\python\\python313\\lib\\site-packages (from nbformat->import_ipynb) (2.21.0)\n",
      "Requirement already satisfied: jsonschema>=2.6 in c:\\users\\kikel\\appdata\\local\\programs\\python\\python313\\lib\\site-packages (from nbformat->import_ipynb) (4.23.0)\n",
      "Requirement already satisfied: jupyter-core!=5.0.*,>=4.12 in c:\\users\\kikel\\appdata\\roaming\\python\\python313\\site-packages (from nbformat->import_ipynb) (5.7.2)\n",
      "Requirement already satisfied: parso<0.9.0,>=0.8.3 in c:\\users\\kikel\\appdata\\roaming\\python\\python313\\site-packages (from jedi>=0.16->IPython->import_ipynb) (0.8.4)\n",
      "Requirement already satisfied: attrs>=22.2.0 in c:\\users\\kikel\\appdata\\local\\programs\\python\\python313\\lib\\site-packages (from jsonschema>=2.6->nbformat->import_ipynb) (24.2.0)\n",
      "Requirement already satisfied: jsonschema-specifications>=2023.03.6 in c:\\users\\kikel\\appdata\\local\\programs\\python\\python313\\lib\\site-packages (from jsonschema>=2.6->nbformat->import_ipynb) (2024.10.1)\n",
      "Requirement already satisfied: referencing>=0.28.4 in c:\\users\\kikel\\appdata\\local\\programs\\python\\python313\\lib\\site-packages (from jsonschema>=2.6->nbformat->import_ipynb) (0.35.1)\n",
      "Requirement already satisfied: rpds-py>=0.7.1 in c:\\users\\kikel\\appdata\\local\\programs\\python\\python313\\lib\\site-packages (from jsonschema>=2.6->nbformat->import_ipynb) (0.21.0)\n",
      "Requirement already satisfied: platformdirs>=2.5 in c:\\users\\kikel\\appdata\\roaming\\python\\python313\\site-packages (from jupyter-core!=5.0.*,>=4.12->nbformat->import_ipynb) (4.3.6)\n",
      "Requirement already satisfied: pywin32>=300 in c:\\users\\kikel\\appdata\\roaming\\python\\python313\\site-packages (from jupyter-core!=5.0.*,>=4.12->nbformat->import_ipynb) (308)\n",
      "Requirement already satisfied: wcwidth in c:\\users\\kikel\\appdata\\roaming\\python\\python313\\site-packages (from prompt-toolkit<3.1.0,>=3.0.41->IPython->import_ipynb) (0.2.13)\n",
      "Requirement already satisfied: executing>=1.2.0 in c:\\users\\kikel\\appdata\\roaming\\python\\python313\\site-packages (from stack-data->IPython->import_ipynb) (2.1.0)\n",
      "Requirement already satisfied: asttokens>=2.1.0 in c:\\users\\kikel\\appdata\\roaming\\python\\python313\\site-packages (from stack-data->IPython->import_ipynb) (2.4.1)\n",
      "Requirement already satisfied: pure-eval in c:\\users\\kikel\\appdata\\roaming\\python\\python313\\site-packages (from stack-data->IPython->import_ipynb) (0.2.3)\n",
      "Requirement already satisfied: six>=1.12.0 in c:\\users\\kikel\\appdata\\roaming\\python\\python313\\site-packages (from asttokens>=2.1.0->stack-data->IPython->import_ipynb) (1.16.0)\n"
     ]
    }
   ],
   "source": [
    "! pip install import_ipynb"
   ]
  },
  {
   "cell_type": "code",
   "execution_count": 19,
   "metadata": {},
   "outputs": [
    {
     "name": "stdout",
     "output_type": "stream",
     "text": [
      "Requirement already satisfied: pymysql in c:\\users\\kikel\\appdata\\local\\programs\\python\\python313\\lib\\site-packages (1.1.1)\n"
     ]
    }
   ],
   "source": [
    "! pip install pymysql"
   ]
  },
  {
   "cell_type": "code",
   "execution_count": 20,
   "metadata": {},
   "outputs": [
    {
     "name": "stdout",
     "output_type": "stream",
     "text": [
      "Requirement already satisfied: WTForms in c:\\users\\kikel\\appdata\\local\\programs\\python\\python313\\lib\\site-packages (3.2.1)\n",
      "Requirement already satisfied: markupsafe in c:\\users\\kikel\\appdata\\local\\programs\\python\\python313\\lib\\site-packages (from WTForms) (3.0.2)\n"
     ]
    }
   ],
   "source": [
    "! pip install WTForms"
   ]
  },
  {
   "cell_type": "code",
   "execution_count": 21,
   "metadata": {},
   "outputs": [
    {
     "name": "stdout",
     "output_type": "stream",
     "text": [
      "Requirement already satisfied: mysqlclient in c:\\users\\kikel\\appdata\\local\\programs\\python\\python313\\lib\\site-packages (2.2.6)\n"
     ]
    }
   ],
   "source": [
    "! pip install mysqlclient"
   ]
  },
  {
   "cell_type": "code",
   "execution_count": 22,
   "metadata": {},
   "outputs": [
    {
     "name": "stdout",
     "output_type": "stream",
     "text": [
      "Requirement already satisfied: flask-mysqldb in c:\\users\\kikel\\appdata\\local\\programs\\python\\python313\\lib\\site-packages (2.0.0)\n",
      "Requirement already satisfied: Flask>=1.0.4 in c:\\users\\kikel\\appdata\\local\\programs\\python\\python313\\lib\\site-packages (from flask-mysqldb) (3.0.3)\n",
      "Requirement already satisfied: mysqlclient>=2.2.0 in c:\\users\\kikel\\appdata\\local\\programs\\python\\python313\\lib\\site-packages (from flask-mysqldb) (2.2.6)\n",
      "Requirement already satisfied: Werkzeug>=3.0.0 in c:\\users\\kikel\\appdata\\local\\programs\\python\\python313\\lib\\site-packages (from Flask>=1.0.4->flask-mysqldb) (3.0.6)\n",
      "Requirement already satisfied: Jinja2>=3.1.2 in c:\\users\\kikel\\appdata\\local\\programs\\python\\python313\\lib\\site-packages (from Flask>=1.0.4->flask-mysqldb) (3.1.4)\n",
      "Requirement already satisfied: itsdangerous>=2.1.2 in c:\\users\\kikel\\appdata\\local\\programs\\python\\python313\\lib\\site-packages (from Flask>=1.0.4->flask-mysqldb) (2.2.0)\n",
      "Requirement already satisfied: click>=8.1.3 in c:\\users\\kikel\\appdata\\local\\programs\\python\\python313\\lib\\site-packages (from Flask>=1.0.4->flask-mysqldb) (8.1.7)\n",
      "Requirement already satisfied: blinker>=1.6.2 in c:\\users\\kikel\\appdata\\local\\programs\\python\\python313\\lib\\site-packages (from Flask>=1.0.4->flask-mysqldb) (1.8.2)\n",
      "Requirement already satisfied: colorama in c:\\users\\kikel\\appdata\\roaming\\python\\python313\\site-packages (from click>=8.1.3->Flask>=1.0.4->flask-mysqldb) (0.4.6)\n",
      "Requirement already satisfied: MarkupSafe>=2.0 in c:\\users\\kikel\\appdata\\local\\programs\\python\\python313\\lib\\site-packages (from Jinja2>=3.1.2->Flask>=1.0.4->flask-mysqldb) (3.0.2)\n"
     ]
    }
   ],
   "source": [
    "! pip install flask-mysqldb\n"
   ]
  },
  {
   "cell_type": "code",
   "execution_count": 23,
   "metadata": {},
   "outputs": [
    {
     "name": "stdout",
     "output_type": "stream",
     "text": [
      "Requirement already satisfied: flask-login in c:\\users\\kikel\\appdata\\local\\programs\\python\\python313\\lib\\site-packages (0.6.3)\n",
      "Requirement already satisfied: Flask>=1.0.4 in c:\\users\\kikel\\appdata\\local\\programs\\python\\python313\\lib\\site-packages (from flask-login) (3.0.3)\n",
      "Requirement already satisfied: Werkzeug>=1.0.1 in c:\\users\\kikel\\appdata\\local\\programs\\python\\python313\\lib\\site-packages (from flask-login) (3.0.6)\n",
      "Requirement already satisfied: Jinja2>=3.1.2 in c:\\users\\kikel\\appdata\\local\\programs\\python\\python313\\lib\\site-packages (from Flask>=1.0.4->flask-login) (3.1.4)\n",
      "Requirement already satisfied: itsdangerous>=2.1.2 in c:\\users\\kikel\\appdata\\local\\programs\\python\\python313\\lib\\site-packages (from Flask>=1.0.4->flask-login) (2.2.0)\n",
      "Requirement already satisfied: click>=8.1.3 in c:\\users\\kikel\\appdata\\local\\programs\\python\\python313\\lib\\site-packages (from Flask>=1.0.4->flask-login) (8.1.7)\n",
      "Requirement already satisfied: blinker>=1.6.2 in c:\\users\\kikel\\appdata\\local\\programs\\python\\python313\\lib\\site-packages (from Flask>=1.0.4->flask-login) (1.8.2)\n",
      "Requirement already satisfied: MarkupSafe>=2.1.1 in c:\\users\\kikel\\appdata\\local\\programs\\python\\python313\\lib\\site-packages (from Werkzeug>=1.0.1->flask-login) (3.0.2)\n",
      "Requirement already satisfied: colorama in c:\\users\\kikel\\appdata\\roaming\\python\\python313\\site-packages (from click>=8.1.3->Flask>=1.0.4->flask-login) (0.4.6)\n"
     ]
    }
   ],
   "source": [
    "! pip install flask-login"
   ]
  },
  {
   "cell_type": "code",
   "execution_count": 24,
   "metadata": {},
   "outputs": [
    {
     "name": "stdout",
     "output_type": "stream",
     "text": [
      "asttokens==2.4.1\n",
      "attrs==24.2.0\n",
      "blinker==1.8.2\n",
      "click==8.1.7\n",
      "colorama==0.4.6\n",
      "comm==0.2.2\n",
      "debugpy==1.8.7\n",
      "decorator==5.1.1\n",
      "dnspython==2.7.0\n",
      "email_validator==2.2.0\n",
      "executing==2.1.0\n",
      "fastjsonschema==2.21.0\n",
      "Flask==3.0.3\n",
      "Flask-Login==0.6.3\n",
      "Flask-MySQLdb==2.0.0\n",
      "idna==3.10\n",
      "import-ipynb==0.2\n",
      "ipykernel==6.29.5\n",
      "ipython==8.29.0\n",
      "itsdangerous==2.2.0\n",
      "jedi==0.19.1\n",
      "Jinja2==3.1.4\n",
      "jsonschema==4.23.0\n",
      "jsonschema-specifications==2024.10.1\n",
      "jupyter_client==8.6.3\n",
      "jupyter_core==5.7.2\n",
      "MarkupSafe==3.0.2\n",
      "matplotlib-inline==0.1.7\n",
      "mysql-connector==2.2.9\n",
      "mysql-connector-python==9.1.0\n",
      "mysql-connector-python-rf==2.2.2\n",
      "mysqlclient==2.2.6\n",
      "nbformat==5.10.4\n",
      "nest-asyncio==1.6.0\n",
      "packaging==24.1\n",
      "parso==0.8.4\n",
      "platformdirs==4.3.6\n",
      "prompt_toolkit==3.0.48\n",
      "psutil==6.1.0\n",
      "pure_eval==0.2.3\n",
      "Pygments==2.18.0\n",
      "PyMySQL==1.1.1\n",
      "python-dateutil==2.9.0.post0\n",
      "pywin32==308\n",
      "pyzmq==26.2.0\n",
      "referencing==0.35.1\n",
      "rpds-py==0.21.0\n",
      "six==1.16.0\n",
      "stack-data==0.6.3\n",
      "tornado==6.4.1\n",
      "traitlets==5.14.3\n",
      "wcwidth==0.2.13\n",
      "Werkzeug==3.0.6\n",
      "WTForms==3.2.1\n"
     ]
    }
   ],
   "source": [
    "! pip freeze"
   ]
  },
  {
   "cell_type": "code",
   "execution_count": 25,
   "metadata": {},
   "outputs": [],
   "source": [
    "from flask import Flask, request, render_template, redirect, url_for, jsonify, flash\n",
    "import import_ipynb\n",
    "import forms, hashlib \n",
    "from flask_mysqldb import MySQL"
   ]
  },
  {
   "cell_type": "code",
   "execution_count": 26,
   "metadata": {},
   "outputs": [],
   "source": [
    "# intilize flask application\n",
    "app = Flask(__name__)"
   ]
  },
  {
   "cell_type": "code",
   "execution_count": 27,
   "metadata": {},
   "outputs": [],
   "source": [
    "app.config[\"SECRET_KEY\"]=\"Hola como etas muy bein y tu?\"\n",
    "app.config['MYSQL_HOST']=\"localhost\"\n",
    "app.config[\"MYSQL_USER\"]=\"root\"\n",
    "app.config[\"MYSQL_PASSWORD\"]=\"\"\n",
    "app.config[\"MYSQL_DB\"]=\"schoolapp\""
   ]
  },
  {
   "cell_type": "code",
   "execution_count": 28,
   "metadata": {},
   "outputs": [],
   "source": [
    "mysql = MySQL(app)"
   ]
  },
  {
   "cell_type": "code",
   "execution_count": 29,
   "metadata": {},
   "outputs": [],
   "source": [
    "@app.route(\"/\")\n",
    "def home():\n",
    "    return redirect(url_for(\"login\"))"
   ]
  },
  {
   "cell_type": "code",
   "execution_count": 30,
   "metadata": {},
   "outputs": [],
   "source": [
    "@app.route(\"/login\",methods=[\"GET\",\"POST\"])\n",
    "def login():\n",
    "    if request.method==\"POST\":\n",
    "        login_form=forms.LoginForm(request.form)\n",
    "        if login_form.validate():\n",
    "            user_data=request.form\n",
    "            email=user_data[\"email\"]\n",
    "            password=user_data[\"password\"]\n",
    "            hash=password+app.secret_key\n",
    "            hash=hashlib.sha1(hash.encode())\n",
    "            password=hash.digest()\n",
    "            sql=\"select * from users where email=%s\"\n",
    "            cursor=mysql.connection.cursor()\n",
    "            cursor.execute(sql,(email,))\n",
    "            account = cursor.fetchone()\n",
    "            if account:\n",
    "                return \"account exist\"\n",
    "            else :\n",
    "                return \"Invalid login credentials\"\n",
    "            cursor.close()\n",
    "            return jsonify(login_form.data)\n",
    "        else :\n",
    "            return jsonify({\"errors\": login_form.errors}),400\n",
    "    else :\n",
    "        return render_template(\"auth/user.html\")"
   ]
  },
  {
   "cell_type": "code",
   "execution_count": 31,
   "metadata": {},
   "outputs": [],
   "source": [
    "\n",
    "@app.route(\"/register\",methods=[\"GET\",\"POST\"])\n",
    "def register():\n",
    "    if request.method==\"POST\":\n",
    "        print(request.form)\n",
    "        register_form=forms.RegistrationForm(request.form)\n",
    "        print(register_form.data)\n",
    "        if register_form.validate():\n",
    "            # return jsonify(register_form.data)\n",
    "            user_data= request.form\n",
    "            first_name=user_data[\"first_name\"]\n",
    "            last_name=user_data[\"last_name\"]\n",
    "            middle_name=user_data[\"middle_name\"]\n",
    "            email=user_data[\"email\"]\n",
    "            password=user_data[\"password\"]\n",
    "            phone_number=user_data[\"phone_number\"]\n",
    "            hash=password+app.secret_key\n",
    "            hash=hashlib.sha1(hash.encode())\n",
    "            password=hash.digest()\n",
    "            cursor=mysql.connection.cursor()\n",
    "            cursor.execute(\"select email from users where email=%s\",(email,))\n",
    "\n",
    "            account = cursor.fetchone()\n",
    "            if account:\n",
    "                return \"account exist\"\n",
    "            else: \n",
    "                cursor.execute(\"insert into users ( `first_name`, `last_name`, `middle_name`, `email`, `password`, `gender`, `mobile_number`, `whatsapp_number`, `address`, `city`, `state`, `country`, `profile_picture`, `role`, `status`)values(%s,%s,%s,%s,%s,%s,%s,%s,%s,%s,%s,%s,%s,%s,%s)\",(first_name,last_name,middle_name,email,password,'',phone_number,'','','','','','','users','active'))\n",
    "                mysql.connection.commit()\n",
    "                cursor.close()\n",
    "                return redirect(url_for(\"login\"))\n",
    "\n",
    "\n",
    "        else :\n",
    "            # return jsonify({\"errors\" : register_form.errors }), 400\n",
    "            flash({\"errors\" : register_form.errors })\n",
    "            return redirect(request.referrer)\n",
    "    else :\n",
    "        return render_template(\"auth/registartion.html\")\n",
    "\n"
   ]
  },
  {
   "cell_type": "code",
   "execution_count": 16,
   "metadata": {},
   "outputs": [
    {
     "name": "stdout",
     "output_type": "stream",
     "text": [
      " * Serving Flask app '__main__'\n",
      " * Debug mode: off\n"
     ]
    },
    {
     "name": "stderr",
     "output_type": "stream",
     "text": [
      "WARNING: This is a development server. Do not use it in a production deployment. Use a production WSGI server instead.\n",
      " * Running on http://127.0.0.1:5000\n",
      "Press CTRL+C to quit\n",
      "127.0.0.1 - - [10/Jan/2025 15:47:05] \"GET / HTTP/1.1\" 302 -\n",
      "127.0.0.1 - - [10/Jan/2025 15:47:05] \"GET /login HTTP/1.1\" 200 -\n",
      "127.0.0.1 - - [10/Jan/2025 15:47:21] \"POST /login HTTP/1.1\" 200 -\n"
     ]
    }
   ],
   "source": [
    "if __name__== \"__main__\":\n",
    "    app.run(debug=False)"
   ]
  }
 ],
 "metadata": {
  "kernelspec": {
   "display_name": "Python 3",
   "language": "python",
   "name": "python3"
  },
  "language_info": {
   "codemirror_mode": {
    "name": "ipython",
    "version": 3
   },
   "file_extension": ".py",
   "mimetype": "text/x-python",
   "name": "python",
   "nbconvert_exporter": "python",
   "pygments_lexer": "ipython3",
   "version": "3.12.6"
  }
 },
 "nbformat": 4,
 "nbformat_minor": 2
}
