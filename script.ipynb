{
 "cells": [
  {
   "cell_type": "code",
   "execution_count": null,
   "metadata": {},
   "outputs": [],
   "source": [
    "! pip install Flask\n"
   ]
  },
  {
   "cell_type": "code",
   "execution_count": null,
   "metadata": {},
   "outputs": [],
   "source": [
    "! pip install import_ipynb"
   ]
  },
  {
   "cell_type": "code",
   "execution_count": null,
   "metadata": {},
   "outputs": [],
   "source": [
    "! pip install pymysql"
   ]
  },
  {
   "cell_type": "code",
   "execution_count": null,
   "metadata": {},
   "outputs": [],
   "source": [
    "! pip install WTForms"
   ]
  },
  {
   "cell_type": "code",
   "execution_count": null,
   "metadata": {},
   "outputs": [],
   "source": [
    "! pip install mysqlclient"
   ]
  },
  {
   "cell_type": "code",
   "execution_count": null,
   "metadata": {},
   "outputs": [],
   "source": [
    "! pip install flask-mysqldb\n"
   ]
  },
  {
   "cell_type": "code",
   "execution_count": null,
   "metadata": {},
   "outputs": [],
   "source": [
    "! pip install flask-login"
   ]
  },
  {
   "cell_type": "code",
   "execution_count": null,
   "metadata": {},
   "outputs": [],
   "source": [
    "! pip freeze"
   ]
  },
  {
   "cell_type": "code",
   "execution_count": 41,
   "metadata": {},
   "outputs": [],
   "source": [
    "from flask import Flask, request, render_template, redirect, url_for, jsonify\n",
    "import import_ipynb\n",
    "import forms, hashlib\n",
    "from flask_mysqldb import MySQL"
   ]
  },
  {
   "cell_type": "code",
   "execution_count": 42,
   "metadata": {},
   "outputs": [],
   "source": [
    "# intilize flask application\n",
    "app = Flask(__name__)"
   ]
  },
  {
   "cell_type": "code",
   "execution_count": 43,
   "metadata": {},
   "outputs": [],
   "source": [
    "app.config[\"SECRET_KEY\"]=\"Hola como etas muy bein y tu?\"\n",
    "app.config['MYSQL_HOST']=\"localhost\"\n",
    "app.config[\"MYSQL_USER\"]=\"root\"\n",
    "app.config[\"MYSQL_PASSWORD\"]=\"\"\n",
    "app.config[\"MYSQL_DB\"]=\"schoolapp\""
   ]
  },
  {
   "cell_type": "code",
   "execution_count": 44,
   "metadata": {},
   "outputs": [],
   "source": [
    "mysql = MySQL(app)"
   ]
  },
  {
   "cell_type": "code",
   "execution_count": 45,
   "metadata": {},
   "outputs": [],
   "source": [
    "@app.route(\"/\")\n",
    "def home():\n",
    "    return redirect(url_for(\"login\"))"
   ]
  },
  {
   "cell_type": "code",
   "execution_count": 46,
   "metadata": {},
   "outputs": [],
   "source": [
    "@app.route(\"/login\",methods=[\"GET\",\"POST\"])\n",
    "def login():\n",
    "    if request.method==\"POST\":\n",
    "        login_form=forms.LoginForm(request.form)\n",
    "        if login_form.validate():\n",
    "            return jsonify(login_form.data)\n",
    "        else :\n",
    "            return jsonify({\"errors\": login_form.errors}),400\n",
    "    else :\n",
    "        return render_template(\"auth/user.html\")"
   ]
  },
  {
   "cell_type": "code",
   "execution_count": 47,
   "metadata": {},
   "outputs": [],
   "source": [
    "\n",
    "@app.route(\"/register\",methods=[\"GET\",\"POST\"])\n",
    "def register():\n",
    "    if request.method==\"POST\":\n",
    "        print(request.form)\n",
    "        register_form=forms.RegistrationForm(request.form)\n",
    "        print(register_form.data)\n",
    "        if register_form.validate():\n",
    "            # return jsonify(register_form.data)\n",
    "            user_data= request.form\n",
    "            first_name=user_data[\"first_name\"]\n",
    "            last_name=user_data[\"last_name\"]\n",
    "            middle_name=user_data[\"middle_name\"]\n",
    "            email=user_data[\"email\"]\n",
    "            password=user_data[\"password\"]\n",
    "            phone_number=user_data[\"phone_number\"]\n",
    "            hash=password+app.secret_key\n",
    "            hash=hashlib.sha1(hash.encode())\n",
    "            password=hash.digest()\n",
    "            cursor=mysql.connection.cursor()\n",
    "            cursor.excute(\"select email from users where email=%s\",(email,))\n",
    "            account = cursor.fetchone()\n",
    "            if account:\n",
    "                return \"account exist\"\n",
    "            else: \n",
    "                return \"account doesnt exist\"\n",
    "\n",
    "\n",
    "        else :\n",
    "            return jsonify({\"errors\" : register_form.errors }), 400\n",
    "    else :\n",
    "        return render_template(\"auth/registartion.html\")\n",
    "\n"
   ]
  },
  {
   "cell_type": "code",
   "execution_count": 48,
   "metadata": {},
   "outputs": [
    {
     "name": "stdout",
     "output_type": "stream",
     "text": [
      " * Serving Flask app '__main__'\n",
      " * Debug mode: off\n"
     ]
    },
    {
     "name": "stderr",
     "output_type": "stream",
     "text": [
      "WARNING: This is a development server. Do not use it in a production deployment. Use a production WSGI server instead.\n",
      " * Running on http://127.0.0.1:5000\n",
      "Press CTRL+C to quit\n"
     ]
    },
    {
     "name": "stderr",
     "output_type": "stream",
     "text": [
      "127.0.0.1 - - [20/Dec/2024 21:00:17] \"GET /register HTTP/1.1\" 200 -\n",
      "127.0.0.1 - - [20/Dec/2024 21:00:17] \"GET /static/bootstrap.css HTTP/1.1\" 304 -\n",
      "127.0.0.1 - - [20/Dec/2024 21:00:17] \"GET /static/bootstrap.js HTTP/1.1\" 304 -\n"
     ]
    }
   ],
   "source": [
    "if __name__== \"__main__\":\n",
    "    app.run(debug=False)"
   ]
  }
 ],
 "metadata": {
  "kernelspec": {
   "display_name": "Python 3",
   "language": "python",
   "name": "python3"
  },
  "language_info": {
   "codemirror_mode": {
    "name": "ipython",
    "version": 3
   },
   "file_extension": ".py",
   "mimetype": "text/x-python",
   "name": "python",
   "nbconvert_exporter": "python",
   "pygments_lexer": "ipython3",
   "version": "3.12.6"
  }
 },
 "nbformat": 4,
 "nbformat_minor": 2
}
