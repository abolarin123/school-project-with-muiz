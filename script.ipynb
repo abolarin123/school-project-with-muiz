{
 "cells": [
  {
   "cell_type": "code",
   "execution_count": null,
   "metadata": {},
   "outputs": [],
   "source": [
    "! pip install Flask\n"
   ]
  },
  {
   "cell_type": "code",
   "execution_count": null,
   "metadata": {},
   "outputs": [],
   "source": [
    "! pip install import_ipynb"
   ]
  },
  {
   "cell_type": "code",
   "execution_count": null,
   "metadata": {},
   "outputs": [],
   "source": [
    "! pip install pymysql"
   ]
  },
  {
   "cell_type": "code",
   "execution_count": null,
   "metadata": {},
   "outputs": [],
   "source": [
    "! pip install WTForms"
   ]
  },
  {
   "cell_type": "code",
   "execution_count": null,
   "metadata": {},
   "outputs": [],
   "source": [
    "! pip install mysqlclient"
   ]
  },
  {
   "cell_type": "code",
   "execution_count": null,
   "metadata": {},
   "outputs": [],
   "source": [
    "! pip install flask-mysqldb\n"
   ]
  },
  {
   "cell_type": "code",
   "execution_count": null,
   "metadata": {},
   "outputs": [],
   "source": [
    "! pip install flask-login"
   ]
  },
  {
   "cell_type": "code",
   "execution_count": null,
   "metadata": {},
   "outputs": [],
   "source": [
    "! pip freeze"
   ]
  },
  {
   "cell_type": "code",
   "execution_count": null,
   "metadata": {},
   "outputs": [],
   "source": [
    "! pip install flask-login"
   ]
  },
  {
   "cell_type": "code",
   "execution_count": null,
   "metadata": {},
   "outputs": [],
   "source": [
    "! pip install Flask-Bcrypt "
   ]
  },
  {
   "cell_type": "code",
   "execution_count": 205,
   "metadata": {},
   "outputs": [],
   "source": [
    "from flask import Flask, request, render_template, redirect, url_for, jsonify, flash\n",
    "import import_ipynb\n",
    "import forms, hashlib \n",
    "from flask_mysqldb import MySQL\n",
    "from werkzeug.security import generate_password_hash, check_password_hash\n",
    "from flask_bcrypt import Bcrypt \n",
    "from IPython.display import display, HTML\n",
    "from flask_login import LoginManager,UserMixin,login_user,logout_user,login_required,current_user"
   ]
  },
  {
   "cell_type": "code",
   "execution_count": 206,
   "metadata": {},
   "outputs": [],
   "source": [
    "# intilize flask application\n",
    "app = Flask(__name__)\n",
    "bcrypt = Bcrypt(app) "
   ]
  },
  {
   "cell_type": "code",
   "execution_count": 207,
   "metadata": {},
   "outputs": [],
   "source": [
    "app.config[\"SECRET_KEY\"]=\"Hola como etas muy bein y tu?\"\n",
    "app.config['MYSQL_HOST']=\"localhost\"\n",
    "app.config[\"MYSQL_USER\"]=\"root\"\n",
    "app.config[\"MYSQL_PASSWORD\"]=\"\"\n",
    "app.config[\"MYSQL_DB\"]=\"schoolapp\""
   ]
  },
  {
   "cell_type": "code",
   "execution_count": 208,
   "metadata": {},
   "outputs": [],
   "source": [
    "mysql = MySQL(app)"
   ]
  },
  {
   "cell_type": "code",
   "execution_count": 209,
   "metadata": {},
   "outputs": [],
   "source": [
    "login_manager=LoginManager()\n",
    "login_manager.init_app(app)\n",
    "login_manager.login_view=\"login\""
   ]
  },
  {
   "cell_type": "code",
   "execution_count": 210,
   "metadata": {},
   "outputs": [],
   "source": [
    "class User(UserMixin) :\n",
    "    def __init__(self,id,first_name,last_name,middle_name,email,password,gender,mobile_number,whatsapp_number,address,city,state,country,profile_picture,role,status) :\n",
    "        self.id=id\n",
    "        self.first_name=first_name\n",
    "        self.last_name=last_name\n",
    "        self.middle_name=middle_name\n",
    "        self.email=email\n",
    "        self.password=password\n",
    "        self.gender=gender\n",
    "        self.mobile_number=mobile_number\n",
    "        self.whatsapp_number=whatsapp_number\n",
    "        self.address=address\n",
    "        self.city=city\n",
    "        self.state=state\n",
    "        self.country=country\n",
    "        self.profile_picture=profile_picture\n",
    "        self.role=role\n",
    "        self.status=status\n"
   ]
  },
  {
   "cell_type": "code",
   "execution_count": 211,
   "metadata": {},
   "outputs": [],
   "source": [
    "@login_manager.user_loader\n",
    "def load_user(user_id) :\n",
    "     sql=\"select * from users where users_id=%s AND status=%s\"\n",
    "     cursor=mysql.connection.cursor()\n",
    "     cursor.execute(sql,(user_id, 'active'))\n",
    "     user = cursor.fetchone()\n",
    "     cursor.close()\n",
    "     if user :\n",
    "          return User(user[0],user[1],user[2],user[3],user[4],user[5],user[6],user[7],user[8],user[9],user[10],user[11],user[12],user[13],user[14],user[15])\n"
   ]
  },
  {
   "cell_type": "code",
   "execution_count": 212,
   "metadata": {},
   "outputs": [],
   "source": [
    "@app.route(\"/\")\n",
    "def home():\n",
    "    return redirect(url_for(\"login\"))"
   ]
  },
  {
   "cell_type": "code",
   "execution_count": 213,
   "metadata": {},
   "outputs": [],
   "source": [
    "@app.route(\"/login\",methods=[\"GET\",\"POST\"])\n",
    "def login():\n",
    "    if request.method==\"POST\":\n",
    "        login_form=forms.LoginForm(request.form)\n",
    "        if login_form.validate():\n",
    "            user_data=request.form\n",
    "            email=user_data[\"email\"]\n",
    "            password=user_data[\"password\"]\n",
    "            sql=\"select * from users where email=%s AND status = %s\"\n",
    "            cursor=mysql.connection.cursor()\n",
    "            try:\n",
    "                cursor.execute(sql,(email, 'active'))\n",
    "                account = cursor.fetchone()\n",
    "                if account and bcrypt.check_password_hash(account[5], password):\n",
    "                    user_object=User(account[0],account[1],account[2],account[3],account[4],account[5],account[6],account[7],account[8],account[9],account[10],account[11],account[12],account[13],account[14],account[15])\n",
    "                    login_user(user_object)\n",
    "                    flash(\"Login successful\",\"success\")\n",
    "                    return redirect(url_for(\"dashboard\"))\n",
    "                else :\n",
    "                    flash(\"Invalid login credentials.\",\"error\")\n",
    "                    return redirect(request.referrer)\n",
    "                cursor.close()\n",
    "                return jsonify(login_form.data)\n",
    "            except Exception as e:\n",
    "                print(\"Failed to load user\", e)\n",
    "                return \"Failed to load user\"\n",
    "            \n",
    "\n",
    "        else :\n",
    "            for field,errors in login_form.errors.items():\n",
    "                for error in errors:\n",
    "                    flash(f\"{field}: {error}\",\"error\")\n",
    "            return redirect(request.referrer)\n",
    "    else :\n",
    "        return render_template(\"auth/user.html\") "
   ]
  },
  {
   "cell_type": "code",
   "execution_count": 214,
   "metadata": {},
   "outputs": [],
   "source": [
    "@app.route(\"/dashboard\", methods=[\"GET\",\"POST\"])\n",
    "@login_required\n",
    "def dashboard():\n",
    "    print(current_user.role)\n",
    "    return render_template(\"pages/dashboard.html\", first_name=current_user.first_name, last_name=current_user.last_name, middle_name=current_user.middle_name, email=current_user.email, gender=current_user.gender, mobile_number=current_user.mobile_number, whatsapp_number=current_user.whatsapp_number, address=current_user.address, city=current_user.city, state=current_user.state, country=current_user.country, profile_picture=current_user.profile_picture, role=current_user.role, status=current_user.status )\n"
   ]
  },
  {
   "cell_type": "code",
   "execution_count": 215,
   "metadata": {},
   "outputs": [],
   "source": [
    "@app.route(\"/Courses\", methods=[\"GET\", \"POST\"])\n",
    "@login_required\n",
    "def Courses():\n",
    "    return render_template(\"pages/Courses.html\", first_name=current_user.first_name, last_name=current_user.last_name, middle_name=current_user.middle_name, email=current_user.email, gender=current_user.gender,mobile_number=current_user.mobile_number,whatsapp_number=current_user.whatsapp_number,address=current_user.address,city=current_user.city,state=current_user.state,country=current_user.country,profile_picture=current_user.profile_picture,role=current_user.role,status=current_user.status )"
   ]
  },
  {
   "cell_type": "code",
   "execution_count": 216,
   "metadata": {},
   "outputs": [],
   "source": [
    "@app.route(\"/logout\", methods=[\"GET\",\"POST\"])\n",
    "@login_required\n",
    "def logout():\n",
    "    logout_user()\n",
    "    flash(\"Logged out succesful\",\"Info\")\n",
    "    return redirect(url_for(\"login\"))"
   ]
  },
  {
   "cell_type": "code",
   "execution_count": 217,
   "metadata": {},
   "outputs": [],
   "source": [
    "@app.route(\"/Quizzes\", methods=[\"Get\",\"Post\"])\n",
    "@login_required\n",
    "def Quizzes():\n",
    "    return render_template(\"pages/quizzess.html\", first_name=current_user.first_name, last_name=current_user.last_name, middle_name=current_user.middle_name, email=current_user.email, gender=current_user.gender,mobile_number=current_user.mobile_number,whatsapp_number=current_user.whatsapp_number,address=current_user.address,city=current_user.city,state=current_user.state,country=current_user.country,profile_picture=current_user.profile_picture,role=current_user.role,status=current_user.status)\n",
    " "
   ]
  },
  {
   "cell_type": "code",
   "execution_count": 218,
   "metadata": {},
   "outputs": [],
   "source": [
    "@app.route(\"/certificate\", methods=[\"Get\",\"Post\"])\n",
    "@login_required\n",
    "def Certificate():\n",
    "    return render_template(\"pages/certificate.html\", first_name=current_user.first_name, last_name=current_user.last_name, middle_name=current_user.middle_name, email=current_user.email, gender=current_user.gender,mobile_number=current_user.mobile_number,whatsapp_number=current_user.whatsapp_number,address=current_user.address,city=current_user.city,state=current_user.state,country=current_user.country,profile_picture=current_user.profile_picture,role=current_user.role,status=current_user.status)"
   ]
  },
  {
   "cell_type": "code",
   "execution_count": 219,
   "metadata": {},
   "outputs": [],
   "source": [
    "@app.route(\"/Live Sessions\", methods=[\"Get\",\"Post\"])\n",
    "@login_required\n",
    "def Live_Sessions():\n",
    "    return render_template(\"pages/live_sessions\", first_name=current_user.first_name, last_name=current_user.last_name, middle_name=current_user.middle_name, email=current_user.email, gender=current_user.gender,mobile_number=current_user.mobile_number,whatsapp_number=current_user.whatsapp_number,address=current_user.address,city=current_user.city,state=current_user.state,country=current_user.country,profile_picture=current_user.profile_picture,role=current_user.role,status=current_user.status)"
   ]
  },
  {
   "cell_type": "code",
   "execution_count": 220,
   "metadata": {},
   "outputs": [],
   "source": [
    "\n",
    "@app.route(\"/register\",methods=[\"GET\",\"POST\"]) #lok\n",
    "def register(): #lol\n",
    "    if request.method==\"POST\": #lol\n",
    "        print(request.form) #lo\n",
    "        register_form=forms.RegistrationForm(request.form) #ol\n",
    "        print(register_form.data) #lo\n",
    "        if register_form.validate(): #lo\n",
    "            # return jsonify(register_form.data) #er\n",
    "            user_data= register_form.data #gdg//\n",
    "            first_name=user_data[\"first_name\"] #dfd\n",
    "            last_name=user_data[\"last_name\"] #dfg\n",
    "            middle_name=user_data[\"middle_name\"] #dff\n",
    "            email=user_data[\"email\"] #ggfd\n",
    "            password=user_data[\"password\"] #gffd\n",
    "            phone_number=user_data[\"phone_number\"] #fgd\n",
    "            # hash=hashlib.sha1(hash.encode()) #gfh\n",
    "            # password=hash.digest() #ghf\n",
    "            password =  bcrypt.generate_password_hash(password) #gh\n",
    "            cursor=mysql.connection.cursor() #gf\n",
    "            cursor.execute(\"select email from users where email=%s\",(email,)) #gf\n",
    "            account = cursor.fetchone() #gh\n",
    "            if account: #fg\n",
    "                flash(\"An account with this email already exist.\",\"error\")\n",
    "                return redirect(request.referrer)\n",
    "            else: # lol\n",
    "                cursor.execute(\"insert into users ( `first_name`, `last_name`, `middle_name`, `email`, `password`, `gender`, `mobile_number`, `whatsapp_number`, `address`, `city`, `state`, `country`, `profile_picture`, `role`, `status`)values(%s,%s,%s,%s,%s,%s,%s,%s,%s,%s,%s,%s,%s,%s,%s)\",(first_name,last_name,middle_name,email,password,'',phone_number,'','','','','','','user','active')) #pop\n",
    "                mysql.connection.commit() #kip\n",
    "                cursor.close() #lok\n",
    "                flash(\"Registration successful. Please Login.\",\"sucess\")\n",
    "                return redirect(url_for(\"login\")) #lo\n",
    "        else :\n",
    "            # return jsonify({\"errors\" : register_form.errors }), 400 #hi\n",
    "            # flash({\"errors\" : register_form.errors }) #hu\n",
    "            # return redirect(request.referrer) hi\n",
    "            for field,errors in register_form.errors.items():\n",
    "                for error in errors:\n",
    "                    flash(f\"{field}: {error}\",\"error\")\n",
    "            return redirect(request.referrer) #hi\n",
    "    else :\n",
    "        return render_template(\"auth/registartion.html\") #hello\n",
    "\n"
   ]
  },
  {
   "cell_type": "code",
   "execution_count": null,
   "metadata": {},
   "outputs": [
    {
     "name": "stdout",
     "output_type": "stream",
     "text": [
      " * Serving Flask app '__main__'\n",
      " * Debug mode: off\n"
     ]
    },
    {
     "name": "stderr",
     "output_type": "stream",
     "text": [
      "WARNING: This is a development server. Do not use it in a production deployment. Use a production WSGI server instead.\n",
      " * Running on http://127.0.0.1:5000\n",
      "Press CTRL+C to quit\n",
      "127.0.0.1 - - [28/Feb/2025 22:00:53] \"GET /Courses HTTP/1.1\" 200 -\n",
      "127.0.0.1 - - [28/Feb/2025 22:00:54] \"GET /profile.jpg HTTP/1.1\" 404 -\n",
      "127.0.0.1 - - [28/Feb/2025 22:01:40] \"GET /Courses HTTP/1.1\" 200 -\n",
      "127.0.0.1 - - [28/Feb/2025 22:01:41] \"GET /profile.jpg HTTP/1.1\" 404 -\n"
     ]
    }
   ],
   "source": [
    "if __name__== \"__main__\":\n",
    "    app.run(debug=False)"
   ]
  }
 ],
 "metadata": {
  "kernelspec": {
   "display_name": "Python 3",
   "language": "python",
   "name": "python3"
  },
  "language_info": {
   "codemirror_mode": {
    "name": "ipython",
    "version": 3
   },
   "file_extension": ".py",
   "mimetype": "text/x-python",
   "name": "python",
   "nbconvert_exporter": "python",
   "pygments_lexer": "ipython3",
   "version": "3.12.6"
  }
 },
 "nbformat": 4,
 "nbformat_minor": 2
}
