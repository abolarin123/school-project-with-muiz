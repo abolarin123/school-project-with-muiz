{
 "cells": [
  {
   "cell_type": "code",
   "execution_count": null,
   "metadata": {},
   "outputs": [],
   "source": [
    "! pip install Flask\n"
   ]
  },
  {
   "cell_type": "code",
   "execution_count": null,
   "metadata": {},
   "outputs": [],
   "source": [
    "! pip install import_ipynb"
   ]
  },
  {
   "cell_type": "code",
   "execution_count": null,
   "metadata": {},
   "outputs": [],
   "source": [
    "! pip install pymysql"
   ]
  },
  {
   "cell_type": "code",
   "execution_count": null,
   "metadata": {},
   "outputs": [],
   "source": [
    "! pip install WTForms"
   ]
  },
  {
   "cell_type": "code",
   "execution_count": null,
   "metadata": {},
   "outputs": [],
   "source": [
    "! pip install mysqlclient"
   ]
  },
  {
   "cell_type": "code",
   "execution_count": null,
   "metadata": {},
   "outputs": [],
   "source": [
    "! pip install flask-mysqldb\n"
   ]
  },
  {
   "cell_type": "code",
   "execution_count": null,
   "metadata": {},
   "outputs": [],
   "source": [
    "! pip install flask-login"
   ]
  },
  {
   "cell_type": "code",
   "execution_count": null,
   "metadata": {},
   "outputs": [],
   "source": [
    "! pip freeze"
   ]
  },
  {
   "cell_type": "code",
   "execution_count": null,
   "metadata": {},
   "outputs": [],
   "source": [
    "! pip install flask-login"
   ]
  },
  {
   "cell_type": "code",
   "execution_count": null,
   "metadata": {},
   "outputs": [],
   "source": [
    "! pip install Flask-Bcrypt "
   ]
  },
  {
   "cell_type": "code",
   "execution_count": null,
   "metadata": {},
   "outputs": [],
   "source": [
    "from flask import Flask, request, render_template, redirect, url_for, jsonify, flash\n",
    "import import_ipynb\n",
    "import forms, hashlib \n",
    "from flask_mysqldb import MySQL\n",
    "from werkzeug.security import generate_password_hash, check_password_hash\n",
    "from flask_bcrypt import Bcrypt \n",
    "from IPython.display import display, HTML\n",
    "from flask_login import LoginManager,UserMixin,login_user,logout_user,login_required,current_user"
   ]
  },
  {
   "cell_type": "code",
   "execution_count": 12,
   "metadata": {},
   "outputs": [],
   "source": [
    "# intilize flask application\n",
    "app = Flask(__name__)\n",
    "bcrypt = Bcrypt(app) "
   ]
  },
  {
   "cell_type": "code",
   "execution_count": 13,
   "metadata": {},
   "outputs": [],
   "source": [
    "app.config[\"SECRET_KEY\"]=\"Hola como etas muy bein y tu?\"\n",
    "app.config['MYSQL_HOST']=\"localhost\"\n",
    "app.config[\"MYSQL_USER\"]=\"root\"\n",
    "app.config[\"MYSQL_PASSWORD\"]=\"\"\n",
    "app.config[\"MYSQL_DB\"]=\"schoolapp\""
   ]
  },
  {
   "cell_type": "code",
   "execution_count": 14,
   "metadata": {},
   "outputs": [],
   "source": [
    "mysql = MySQL(app)"
   ]
  },
  {
   "cell_type": "code",
   "execution_count": 15,
   "metadata": {},
   "outputs": [],
   "source": [
    "@app.route(\"/\")\n",
    "def home():\n",
    "    return redirect(url_for(\"login\"))"
   ]
  },
  {
   "cell_type": "code",
   "execution_count": 16,
   "metadata": {},
   "outputs": [],
   "source": [
    "@app.route(\"/login\",methods=[\"GET\",\"POST\"])\n",
    "def login():\n",
    "    if request.method==\"POST\":\n",
    "        login_form=forms.LoginForm(request.form)\n",
    "        if login_form.validate():\n",
    "            user_data=request.form\n",
    "            email=user_data[\"email\"]\n",
    "            password=user_data[\"password\"]\n",
    "            sql=\"select * from users where email=%s\"\n",
    "            cursor=mysql.connection.cursor()\n",
    "            cursor.execute(sql,(email,))\n",
    "            account = cursor.fetchone()\n",
    "            if account and bcrypt.check_password_hash(account[5], password):\n",
    "                user_object=User(account[0],account[1],account[2],account[3],account[4],account[5],account[6],account[7],account[8],account[9],account[10],account[11],account[12],account[13],account[14],account[15])\n",
    "                login_user(user_object)\n",
    "                flash(\"Login successful\",\"success\")\n",
    "            else :\n",
    "                flash(\"Invalid login credentials.\",\"error\")\n",
    "                return redirect(request.referrer)\n",
    "            cursor.close()\n",
    "            return jsonify(login_form.data)\n",
    "        else :\n",
    "            for field,errors in login_form.errors.items():\n",
    "                for error in errors:\n",
    "                    flash(f\"{field}: {error}\",\"error\")\n",
    "            return redirect(request.referrer)\n",
    "    else :\n",
    "        return render_template(\"auth/user.html\") "
   ]
  },
  {
   "cell_type": "code",
   "execution_count": 17,
   "metadata": {},
   "outputs": [],
   "source": [
    "\n",
    "@app.route(\"/register\",methods=[\"GET\",\"POST\"]) #lok\n",
    "def register(): #lol\n",
    "    if request.method==\"POST\": #lol\n",
    "        print(request.form) #lo\n",
    "        register_form=forms.RegistrationForm(request.form) #ol\n",
    "        print(register_form.data) #lo\n",
    "        if register_form.validate(): #lo\n",
    "            # return jsonify(register_form.data) #er\n",
    "            user_data= register_form.data #gdg//\n",
    "            first_name=user_data[\"first_name\"] #dfd\n",
    "            last_name=user_data[\"last_name\"] #dfg\n",
    "            middle_name=user_data[\"middle_name\"] #dff\n",
    "            email=user_data[\"email\"] #ggfd\n",
    "            password=user_data[\"password\"] #gffd\n",
    "            phone_number=user_data[\"phone_number\"] #fgd\n",
    "            # hash=hashlib.sha1(hash.encode()) #gfh\n",
    "            # password=hash.digest() #ghf\n",
    "            password =  bcrypt.generate_password_hash(password) #gh\n",
    "            cursor=mysql.connection.cursor() #gf\n",
    "            cursor.execute(\"select email from users where email=%s\",(email,)) #gf\n",
    "            account = cursor.fetchone() #gh\n",
    "            if account: #fg\n",
    "                flash(\"An account with this email already exist.\",\"error\")\n",
    "                return redirect(request.referrer)\n",
    "            else: # lol\n",
    "                cursor.execute(\"insert into users ( `first_name`, `last_name`, `middle_name`, `email`, `password`, `gender`, `mobile_number`, `whatsapp_number`, `address`, `city`, `state`, `country`, `profile_picture`, `role`, `status`)values(%s,%s,%s,%s,%s,%s,%s,%s,%s,%s,%s,%s,%s,%s,%s)\",(first_name,last_name,middle_name,email,password,'',phone_number,'','','','','','','users','active')) #pop\n",
    "                mysql.connection.commit() #kip\n",
    "                cursor.close() #lok\n",
    "                flash(\"Registration successful. Please Login.\",\"sucess\")\n",
    "                return redirect(url_for(\"login\")) #lo\n",
    "        else :\n",
    "            # return jsonify({\"errors\" : register_form.errors }), 400 #hi\n",
    "            # flash({\"errors\" : register_form.errors }) #hu\n",
    "            # return redirect(request.referrer) hi\n",
    "            for field,errors in register_form.errors.items():\n",
    "                for error in errors:\n",
    "                    flash(f\"{field}: {error}\",\"error\")\n",
    "            return redirect(request.referrer) #hi\n",
    "    else :\n",
    "        return render_template(\"auth/registartion.html\") #hello\n",
    "\n"
   ]
  },
  {
   "cell_type": "code",
   "execution_count": null,
   "metadata": {},
   "outputs": [],
   "source": [
    "if __name__== \"__main__\":\n",
    "    app.run(debug=False)"
   ]
  }
 ],
 "metadata": {
  "kernelspec": {
   "display_name": "Python 3",
   "language": "python",
   "name": "python3"
  },
  "language_info": {
   "codemirror_mode": {
    "name": "ipython",
    "version": 3
   },
   "file_extension": ".py",
   "mimetype": "text/x-python",
   "name": "python",
   "nbconvert_exporter": "python",
   "pygments_lexer": "ipython3",
   "version": "3.12.6"
  }
 },
 "nbformat": 4,
 "nbformat_minor": 2
}
