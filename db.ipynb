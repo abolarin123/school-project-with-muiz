{
 "cells": [
  {
   "cell_type": "code",
   "execution_count": null,
   "metadata": {},
   "outputs": [],
   "source": [
    "! pip install mysql-connector"
   ]
  },
  {
   "cell_type": "code",
   "execution_count": null,
   "metadata": {},
   "outputs": [],
   "source": [
    "! pip install mysql-connector-python"
   ]
  },
  {
   "cell_type": "code",
   "execution_count": null,
   "metadata": {},
   "outputs": [],
   "source": [
    "! pip install mysql-connector-python-rf"
   ]
  },
  {
   "cell_type": "code",
   "execution_count": 31,
   "metadata": {},
   "outputs": [],
   "source": [
    "import mysql.connector"
   ]
  },
  {
   "cell_type": "code",
   "execution_count": 32,
   "metadata": {},
   "outputs": [],
   "source": [
    "db=mysql.connector.connect(\n",
    "    host=\"localhost\",\n",
    "    user=\"root\",\n",
    "    passwd=\"\",\n",
    "    database=\"schoolapp\",\n",
    ")\n"
   ]
  },
  {
   "cell_type": "code",
   "execution_count": 33,
   "metadata": {},
   "outputs": [],
   "source": [
    "cursor=db.cursor()"
   ]
  },
  {
   "cell_type": "code",
   "execution_count": 34,
   "metadata": {},
   "outputs": [],
   "source": [
    "cursor.execute(\n",
    "    \"\"\"\n",
    "CREATE TABLE IF NOT EXISTS users(\n",
    "user_id INT(10) NOT NULL AUTO_INCREMENT,\n",
    "first_name varchar(100) NOT NULL,\n",
    "last_name varchar(100) NOT NULL,\n",
    "middle_name varchar(100),\n",
    "email varchar(225) NOT NULL UNIQUE,\n",
    "password varchar(100) NOT NULL,\n",
    "gender enum('male','female') NOT NULL,\n",
    "date_of_birth DATE DEFAULT NULL,\n",
    "mobile_number varchar(12) NOT NULL,\n",
    "whatsapp_number varchar(15) NOT NULL,\n",
    "address varchar(255) NOT NULL,\n",
    "city varchar(40) NOT NULL,\n",
    "state varchar(50) NOT NULL,\n",
    "country varchar(70) NOT NULL,\n",
    "profile_picture varchar(225) DEFAULT NULL,\n",
    "cover_photo varchar(225) DEFAULT NULL,\n",
    "bio text DEFAULT NULL,\n",
    "is_verfied enum(\"verified\", \"not verfied\") NOT NULL DEFAULT \"not verfied\", \n",
    "status enum(\"active\",\"inactive\",\"banned\") NOT NULL DEFAULT \"active\" ,\n",
    "education_level enum(\"elementary\",\"middle school\",\"high school\", \"college\", \"others\") DEFAULT NULL,\n",
    "registartion_date datetime NOT NULL DEFAULT CURRENT_TIMESTAMP,\n",
    "updated_at datetime NOT NULL DEFAULT CURRENT_TIMESTAMP ON UPDATE CURRENT_TIMESTAMP,\n",
    "last_login datetime DEFAULT NULL,\n",
    "PRIMARY KEY(`user_id`)\n",
    ")\n",
    "\"\"\"\n",
    ")"
   ]
  },
  {
   "cell_type": "code",
   "execution_count": 35,
   "metadata": {},
   "outputs": [],
   "source": [
    "sql=\"\"\"\n",
    "CREATE TABLE IF NOT EXISTS user_intrests(\n",
    "intrest_id INT NOT NULL AUTO_INCREMENT PRIMARY KEY,\n",
    "user_id INT NOT NULL,\n",
    "intrest VARCHAR(50) NOT NULL,\n",
    "FOREIGN KEY (user_id) REFERENCES users(user_id) ON DELETE CASCADE\n",
    ")\n",
    "\"\"\"\n",
    "cursor.execute(sql)"
   ]
  },
  {
   "cell_type": "code",
   "execution_count": 36,
   "metadata": {},
   "outputs": [],
   "source": [
    "sql=\"\"\"\n",
    "CREATE TABLE IF NOT EXISTS roles(\n",
    "role_id INT NOT NULL AUTO_INCREMENT PRIMARY KEY,\n",
    "name VARCHAR(50) NOT NULL UNIQUE,\n",
    "status ENUM(\"active\",\"in active\") NOT NULL DEFAULT \"active\",\n",
    "created_at DATETIME NOT NULL DEFAULT CURRENT_TIMESTAMP,\n",
    "updated_at DATETIME NOT NULL DEFAULT CURRENT_TIMESTAMP ON UPDATE CURRENT_TIMESTAMP\n",
    ")\n",
    "\"\"\"\n",
    "cursor.execute(sql)"
   ]
  },
  {
   "cell_type": "code",
   "execution_count": 37,
   "metadata": {},
   "outputs": [],
   "source": [
    "sql=\"\"\"\n",
    "CREATE TABLE IF NOT EXISTS permissions(\n",
    "permission_id INT NOT NULL AUTO_INCREMENT PRIMARY KEY,\n",
    "name VARCHAR(50) NOT NULL UNIQUE,\n",
    "status ENUM(\"active\",\"in active\") NOT NULL DEFAULT \"active\",\n",
    "created_at DATETIME NOT NULL DEFAULT CURRENT_TIMESTAMP,\n",
    "updated_at DATETIME NOT NULL DEFAULT CURRENT_TIMESTAMP ON UPDATE CURRENT_TIMESTAMP\n",
    ")\n",
    "\"\"\"\n",
    "cursor.execute(sql)"
   ]
  },
  {
   "cell_type": "code",
   "execution_count": 38,
   "metadata": {},
   "outputs": [],
   "source": [
    "sql=\"\"\"\n",
    "CREATE TABLE IF NOT EXISTS roles_permissions(\n",
    "role_permission_id INT NOT NULL AUTO_INCREMENT PRIMARY KEY,\n",
    "role_id INT,\n",
    "permission_id INT,\n",
    "status ENUM(\"active\",\"in active\") NOT NULL DEFAULT \"active\",\n",
    "created_at DATETIME NOT NULL DEFAULT CURRENT_TIMESTAMP,\n",
    "updated_at DATETIME NOT NULL DEFAULT CURRENT_TIMESTAMP ON UPDATE CURRENT_TIMESTAMP,\n",
    "FOREIGN KEY (role_id) REFERENCES roles(role_id) ON DELETE CASCADE,\n",
    "FOREIGN KEY (permission_id) REFERENCES permission(permission_id) ON DELETE CASCADE\n",
    ")\n",
    "\"\"\"\n",
    "cursor.execute(sql)"
   ]
  },
  {
   "cell_type": "code",
   "execution_count": 39,
   "metadata": {},
   "outputs": [],
   "source": [
    "sql=\"\"\"\n",
    "CREATE TABLE IF NOT EXISTS courses(\n",
    "course_id INT NOT NULL AUTO_INCREMENT PRIMARY KEY,\n",
    "title VARCHAR(255) NOT NULL,\n",
    "description TEXT DEFAULT NULL,\n",
    "instructor_id INT NOT NULL,\n",
    "duration INT DEFAULT NULL,\n",
    "level ENUM(\"beginner\",\"intermidiate\",\"advanced\") NOT NULL DEFAULT \"beginner\",\n",
    "status ENUM(\"active\",\"in active\") NOT NULL DEFAULT \"active\",\n",
    "created_at DATETIME NOT NULL DEFAULT CURRENT_TIMESTAMP,\n",
    "updated_at DATETIME NOT NULL DEFAULT CURRENT_TIMESTAMP ON UPDATE CURRENT_TIMESTAMP,\n",
    "FOREIGN KEY (instructor_id) REFERENCES users(user_id) ON DELETE CASCADE\n",
    ")\n",
    "\"\"\"\n",
    "cursor.execute(sql)"
   ]
  },
  {
   "cell_type": "code",
   "execution_count": 40,
   "metadata": {},
   "outputs": [],
   "source": [
    "sql=\"\"\"\n",
    "CREATE TABLE IF NOT EXISTS course_chapter(\n",
    "chapter_id INT NOT NULL AUTO_INCREMENT PRIMARY KEY,\n",
    "course_id INT NOT NULL,\n",
    "title VARCHAR(255) NOT NULL,\n",
    "description TEXT DEFAULT NULL,\n",
    "chaptor_number INT NOT NULL,\n",
    "is_published BOOLEAN DEFAULT NULL,\n",
    "level ENUM(\"beginner\",\"intermidiate\",\"advanced\") NOT NULL DEFAULT \"beginner\",\n",
    "status ENUM(\"active\",\"in active\") NOT NULL DEFAULT \"active\",\n",
    "created_at DATETIME NOT NULL DEFAULT CURRENT_TIMESTAMP,\n",
    "updated_at DATETIME NOT NULL DEFAULT CURRENT_TIMESTAMP ON UPDATE CURRENT_TIMESTAMP,\n",
    "FOREIGN KEY (course_id) REFERENCES courses(course_id) ON DELETE CASCADE\n",
    ")\n",
    "\"\"\"\n",
    "cursor.execute(sql)"
   ]
  }
 ],
 "metadata": {
  "kernelspec": {
   "display_name": "Python 3",
   "language": "python",
   "name": "python3"
  },
  "language_info": {
   "codemirror_mode": {
    "name": "ipython",
    "version": 3
   },
   "file_extension": ".py",
   "mimetype": "text/x-python",
   "name": "python",
   "nbconvert_exporter": "python",
   "pygments_lexer": "ipython3",
   "version": "3.12.6"
  }
 },
 "nbformat": 4,
 "nbformat_minor": 2
}
