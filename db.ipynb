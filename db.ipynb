{
 "cells": [
  {
   "cell_type": "code",
   "execution_count": 143,
   "metadata": {},
   "outputs": [
    {
     "name": "stdout",
     "output_type": "stream",
     "text": [
      "Requirement already satisfied: mysql-connector in c:\\users\\kikel\\appdata\\local\\programs\\python\\python313\\lib\\site-packages (2.2.9)"
     ]
    },
    {
     "name": "stderr",
     "output_type": "stream",
     "text": [
      "\n",
      "[notice] A new release of pip is available: 24.3.1 -> 25.1.1\n",
      "[notice] To update, run: python.exe -m pip install --upgrade pip\n"
     ]
    },
    {
     "name": "stdout",
     "output_type": "stream",
     "text": [
      "\n"
     ]
    }
   ],
   "source": [
    "! pip install mysql-connector"
   ]
  },
  {
   "cell_type": "code",
   "execution_count": 144,
   "metadata": {},
   "outputs": [
    {
     "name": "stdout",
     "output_type": "stream",
     "text": [
      "Requirement already satisfied: mysql-connector-python in c:\\users\\kikel\\appdata\\local\\programs\\python\\python313\\lib\\site-packages (9.1.0)\n"
     ]
    },
    {
     "name": "stderr",
     "output_type": "stream",
     "text": [
      "\n",
      "[notice] A new release of pip is available: 24.3.1 -> 25.1.1\n",
      "[notice] To update, run: python.exe -m pip install --upgrade pip\n"
     ]
    }
   ],
   "source": [
    "! pip install mysql-connector-python"
   ]
  },
  {
   "cell_type": "code",
   "execution_count": 145,
   "metadata": {},
   "outputs": [
    {
     "name": "stdout",
     "output_type": "stream",
     "text": [
      "Requirement already satisfied: mysql-connector-python-rf in c:\\users\\kikel\\appdata\\local\\programs\\python\\python313\\lib\\site-packages (2.2.2)\n"
     ]
    },
    {
     "name": "stderr",
     "output_type": "stream",
     "text": [
      "\n",
      "[notice] A new release of pip is available: 24.3.1 -> 25.1.1\n",
      "[notice] To update, run: python.exe -m pip install --upgrade pip\n"
     ]
    }
   ],
   "source": [
    "! pip install mysql-connector-python-rf"
   ]
  },
  {
   "cell_type": "code",
   "execution_count": 146,
   "metadata": {},
   "outputs": [],
   "source": [
    "import mysql.connector"
   ]
  },
  {
   "cell_type": "code",
   "execution_count": 147,
   "metadata": {},
   "outputs": [],
   "source": [
    "db=mysql.connector.connect(\n",
    "    host=\"localhost\",\n",
    "    user=\"root\",\n",
    "    passwd=\"\",\n",
    "    database=\"schoolapp\",\n",
    ")\n"
   ]
  },
  {
   "cell_type": "code",
   "execution_count": 148,
   "metadata": {},
   "outputs": [],
   "source": [
    "cursor=db.cursor()"
   ]
  },
  {
   "cell_type": "code",
   "execution_count": 149,
   "metadata": {},
   "outputs": [],
   "source": [
    "cursor.execute(\n",
    "    \"\"\"\n",
    "CREATE TABLE IF NOT EXISTS users(\n",
    "user_id INT(10) NOT NULL AUTO_INCREMENT,\n",
    "first_name varchar(100) NOT NULL,\n",
    "last_name varchar(100) NOT NULL,\n",
    "middle_name varchar(100),\n",
    "email varchar(225) NOT NULL UNIQUE,\n",
    "password varchar(100) NOT NULL,\n",
    "gender enum('male','female') NOT NULL,\n",
    "date_of_birth DATE DEFAULT NULL,\n",
    "mobile_number varchar(12) NOT NULL,\n",
    "whatsapp_number varchar(15) NOT NULL,\n",
    "address varchar(255) NOT NULL,\n",
    "city varchar(40) NOT NULL,\n",
    "state varchar(50) NOT NULL,\n",
    "country varchar(70) NOT NULL,\n",
    "profile_picture varchar(225) DEFAULT NULL,\n",
    "cover_photo varchar(225) DEFAULT NULL,\n",
    "bio text DEFAULT NULL,\n",
    "is_verfied enum(\"verified\", \"not verfied\") NOT NULL DEFAULT \"not verfied\", \n",
    "status enum(\"active\",\"inactive\",\"banned\") NOT NULL DEFAULT \"active\" ,\n",
    "education_level enum(\"elementary\",\"middle school\",\"high school\", \"college\", \"others\") DEFAULT NULL,\n",
    "registartion_date datetime NOT NULL DEFAULT CURRENT_TIMESTAMP,\n",
    "updated_at datetime NOT NULL DEFAULT CURRENT_TIMESTAMP ON UPDATE CURRENT_TIMESTAMP,\n",
    "last_login datetime DEFAULT NULL,\n",
    "PRIMARY KEY(`user_id`)\n",
    ")\n",
    "\"\"\"\n",
    ")"
   ]
  },
  {
   "cell_type": "code",
   "execution_count": 150,
   "metadata": {},
   "outputs": [],
   "source": [
    "sql=\"\"\"\n",
    "CREATE TABLE IF NOT EXISTS user_intrests(\n",
    "intrest_id INT NOT NULL AUTO_INCREMENT PRIMARY KEY,\n",
    "user_id INT NOT NULL,\n",
    "intrest VARCHAR(50) NOT NULL,\n",
    "FOREIGN KEY (user_id) REFERENCES users(user_id) ON DELETE CASCADE\n",
    ")\n",
    "\"\"\"\n",
    "cursor.execute(sql)"
   ]
  },
  {
   "cell_type": "code",
   "execution_count": 151,
   "metadata": {},
   "outputs": [],
   "source": [
    "sql=\"\"\"\n",
    "CREATE TABLE IF NOT EXISTS roles(\n",
    "role_id INT NOT NULL AUTO_INCREMENT PRIMARY KEY,\n",
    "name VARCHAR(50) NOT NULL UNIQUE,\n",
    "status ENUM(\"active\",\"in active\") NOT NULL DEFAULT \"active\",\n",
    "created_at DATETIME NOT NULL DEFAULT CURRENT_TIMESTAMP,\n",
    "updated_at DATETIME NOT NULL DEFAULT CURRENT_TIMESTAMP ON UPDATE CURRENT_TIMESTAMP\n",
    ")\n",
    "\"\"\"\n",
    "cursor.execute(sql)"
   ]
  },
  {
   "cell_type": "code",
   "execution_count": 152,
   "metadata": {},
   "outputs": [],
   "source": [
    "sql=\"\"\"\n",
    "CREATE TABLE IF NOT EXISTS permissions(\n",
    "permission_id INT NOT NULL AUTO_INCREMENT PRIMARY KEY,\n",
    "name VARCHAR(50) NOT NULL UNIQUE,\n",
    "status ENUM(\"active\",\"in active\") NOT NULL DEFAULT \"active\",\n",
    "created_at DATETIME NOT NULL DEFAULT CURRENT_TIMESTAMP,\n",
    "updated_at DATETIME NOT NULL DEFAULT CURRENT_TIMESTAMP ON UPDATE CURRENT_TIMESTAMP\n",
    ")\n",
    "\"\"\"\n",
    "cursor.execute(sql)"
   ]
  },
  {
   "cell_type": "code",
   "execution_count": 153,
   "metadata": {},
   "outputs": [],
   "source": [
    "sql=\"\"\"\n",
    "CREATE TABLE IF NOT EXISTS roles_permissions(\n",
    "role_permission_id INT NOT NULL AUTO_INCREMENT PRIMARY KEY,\n",
    "role_id INT,\n",
    "permission_id INT,\n",
    "status ENUM(\"active\",\"in active\") NOT NULL DEFAULT \"active\",\n",
    "created_at DATETIME NOT NULL DEFAULT CURRENT_TIMESTAMP,\n",
    "updated_at DATETIME NOT NULL DEFAULT CURRENT_TIMESTAMP ON UPDATE CURRENT_TIMESTAMP,\n",
    "FOREIGN KEY (role_id) REFERENCES roles(role_id) ON DELETE CASCADE,\n",
    "FOREIGN KEY (permission_id) REFERENCES permission(permission_id) ON DELETE CASCADE\n",
    ")\n",
    "\"\"\"\n",
    "cursor.execute(sql)"
   ]
  },
  {
   "cell_type": "code",
   "execution_count": 154,
   "metadata": {},
   "outputs": [],
   "source": [
    "sql=\"\"\"\n",
    "CREATE TABLE IF NOT EXISTS courses(\n",
    "course_id INT NOT NULL AUTO_INCREMENT PRIMARY KEY,\n",
    "title VARCHAR(255) NOT NULL,\n",
    "description TEXT DEFAULT NULL,\n",
    "instructor_id INT NOT NULL,\n",
    "duration INT DEFAULT NULL,\n",
    "level ENUM(\"beginner\",\"intermidiate\",\"advanced\") NOT NULL DEFAULT \"beginner\",\n",
    "status ENUM(\"active\",\"in active\") NOT NULL DEFAULT \"active\",\n",
    "created_at DATETIME NOT NULL DEFAULT CURRENT_TIMESTAMP,\n",
    "updated_at DATETIME NOT NULL DEFAULT CURRENT_TIMESTAMP ON UPDATE CURRENT_TIMESTAMP,\n",
    "FOREIGN KEY (instructor_id) REFERENCES users(user_id) ON DELETE CASCADE\n",
    ")\n",
    "\"\"\"\n",
    "cursor.execute(sql)"
   ]
  },
  {
   "cell_type": "code",
   "execution_count": 155,
   "metadata": {},
   "outputs": [],
   "source": [
    "sql=\"\"\"\n",
    "CREATE TABLE IF NOT EXISTS course_chapter(\n",
    "chapter_id INT NOT NULL AUTO_INCREMENT PRIMARY KEY,\n",
    "course_id INT NOT NULL,\n",
    "title VARCHAR(255) NOT NULL,\n",
    "description TEXT DEFAULT NULL,\n",
    "chaptor_number INT NOT NULL,\n",
    "is_published BOOLEAN DEFAULT NULL,\n",
    "level ENUM(\"beginner\",\"intermidiate\",\"advanced\") NOT NULL DEFAULT \"beginner\",\n",
    "status ENUM(\"active\",\"in active\") NOT NULL DEFAULT \"active\",\n",
    "created_at DATETIME NOT NULL DEFAULT CURRENT_TIMESTAMP,\n",
    "updated_at DATETIME NOT NULL DEFAULT CURRENT_TIMESTAMP ON UPDATE CURRENT_TIMESTAMP,\n",
    "FOREIGN KEY (course_id) REFERENCES courses(course_id) ON DELETE CASCADE\n",
    ")\n",
    "\"\"\"\n",
    "cursor.execute(sql)"
   ]
  },
  {
   "cell_type": "code",
   "execution_count": 156,
   "metadata": {},
   "outputs": [],
   "source": [
    "sql=\"\"\"\n",
    "CREATE TABLE IF NOT EXISTS course_lesson(\n",
    "lesson_id INT NOT NULL AUTO_INCREMENT PRIMARY KEY,\n",
    "chapter_id INT NOT NULL,\n",
    "title VARCHAR(255)NOT NULL,\n",
    "description TEXT DEFAULT NULL,\n",
    "video_url VARCHAR(255) DEFAULT NULL,\n",
    "duration INT DEFAULT NULL,\n",
    "lesson_number INT NOT NULL,\n",
    "is_published BOOLEAN DEFAULT TRUE, \n",
    "created_at DATETIME NOT NULL DEFAULT CURRENT_TIMESTAMP,\n",
    "updated_at DATETIME NOT NULL DEFAULT CURRENT_TIMESTAMP ON UPDATE CURRENT_TIMESTAMP,\n",
    "FOREIGN KEY (chapter_id) REFERENCES course_chapter(course_id) ON DELETE CASCADE\n",
    ")\n",
    "\"\"\"\n",
    "cursor.execute(sql)"
   ]
  },
  {
   "cell_type": "code",
   "execution_count": 157,
   "metadata": {},
   "outputs": [],
   "source": [
    "sql=\"\"\"\n",
    "CREATE TABLE IF NOT EXISTS chapter_completions(\n",
    "completion_id INT NOT NULL AUTO_INCREMENT PRIMARY KEY,\n",
    "user_id INT NOT NULL,\n",
    "chapter_id INT NOT NULL,\n",
    "completion_date DATETIME NOT NULL DEFAULT CURRENT_TIMESTAMP,\n",
    "FOREIGN KEY (user_id) REFERENCES users(user_id) ON DELETE CASCADE\n",
    ")\n",
    "\"\"\"\n",
    "cursor.execute(sql)"
   ]
  },
  {
   "cell_type": "code",
   "execution_count": 158,
   "metadata": {},
   "outputs": [],
   "source": [
    "sql=\"\"\"\n",
    "CREATE TABLE IF NOT EXISTS course_enrollments(\n",
    "enrollment_id INT NOT NULL AUTO_INCREMENT PRIMARY KEY,\n",
    "user_id INT NOT NULL,\n",
    "course_id INT NOT NULL,\n",
    "enrollment_date DATETIME NOT NULL DEFAULT CURRENT_TIMESTAMP,\n",
    "progress_percentage DECIMAL(5,2) NOT NULL DEFAULT 0.00,\n",
    "status ENUM(\"completed\",\"in_progress\",\"dropped\") NOT NULL DEFAULT \"in_progress\",\n",
    "completion_date DATETIME DEFAULT NULL,\n",
    "FOREIGN KEY (user_id) REFERENCES users(user_id) ON DELETE CASCADE,\n",
    "FOREIGN KEY (course_id) REFERENCES course(course_id) ON DELETE CASCADE\n",
    ")\n",
    "\"\"\"\n",
    "cursor.execute(sql)"
   ]
  },
  {
   "cell_type": "code",
   "execution_count": 159,
   "metadata": {},
   "outputs": [],
   "source": [
    "sql=\"\"\"\n",
    "CREATE TABLE IF NOT EXISTS user_activity(\n",
    "activity_id INT NOT NULL AUTO_INCREMENT PRIMARY KEY,\n",
    "user_id INT NOT NULL,\n",
    "action VARCHAR(255) NOT NULL,\n",
    "target_id INT DEFAULT NULL,\n",
    "metadata JSON DEFAULT NULL,\n",
    "timestamp DATETIME NOT NULL DEFAULT CURRENT_TIMESTAMP,\n",
    "FOREIGN KEY (user_id) REFERENCES users(user_id) ON DELETE CASCADE\n",
    ")\n",
    "\"\"\"\n",
    "cursor.execute(sql)"
   ]
  },
  {
   "cell_type": "code",
   "execution_count": 160,
   "metadata": {},
   "outputs": [],
   "source": [
    "sql=\"\"\"\n",
    "CREATE TABLE IF NOT EXISTS course_progress(\n",
    "progress_id INT NOT NULL AUTO_INCREMENT PRIMARY KEY,\n",
    "user_id INT NOT NULL,\n",
    "course_id INT NOT NULL,\n",
    "completed_percentage DECIMAL(5,2) NOT NULL DEFAULT 0.00,\n",
    "last_acessed DATETIME NOT NULL DEFAULT CURRENT_TIMESTAMP,\n",
    "FOREIGN KEY (user_id) REFERENCES users(user_id) ON DELETE CASCADE,\n",
    "FOREIGN KEY (course_id) REFERENCES course(course_id) ON DELETE CASCADE\n",
    ")\n",
    "\"\"\"\n",
    "cursor.execute(sql)"
   ]
  },
  {
   "cell_type": "code",
   "execution_count": 161,
   "metadata": {},
   "outputs": [],
   "source": [
    "sql=\"\"\"\n",
    "CREATE TABLE IF NOT EXISTS quizzes(\n",
    "quiz_id INT NOT NULL AUTO_INCREMENT PRIMARY KEY,\n",
    "title VARCHAR(255) NOT NULL,\n",
    "description TEXT DEFAULT NULL,\n",
    "course_id INT NOT NULL,\n",
    "duration INT NOT NULL,\n",
    "total_marks DECIMAL(5,2) NOT NULL,\n",
    "created_at DATETIME NOT NULL DEFAULT CURRENT_TIMESTAMP,\n",
    "updated_at DATETIME NOT NULL DEFAULT CURRENT_TIMESTAMP ON UPDATE CURRENT_TIMESTAMP,\n",
    "FOREIGN KEY (course_id) REFERENCES course(course_id) ON DELETE CASCADE\n",
    ")\n",
    "\"\"\"\n",
    "cursor.execute(sql)"
   ]
  },
  {
   "cell_type": "code",
   "execution_count": 162,
   "metadata": {},
   "outputs": [],
   "source": [
    "sql=\"\"\"\n",
    "CREATE TABLE IF NOT EXISTS questions(\n",
    "question_id INT NOT NULL AUTO_INCREMENT PRIMARY KEY,\n",
    "quiz_id INT NOT NULL,\n",
    "question_text TEXT NOT NULL,\n",
    "question_type ENUM(\"single-choice\",\"multiple choice\",\"text\",\"essay\") NOT NULL,\n",
    "marks DECIMAL(5,2) NOT NULL,\n",
    "created_at DATETIME NOT NULL DEFAULT CURRENT_TIMESTAMP,\n",
    "updated_at DATETIME NOT NULL DEFAULT CURRENT_TIMESTAMP ON UPDATE CURRENT_TIMESTAMP,\n",
    "FOREIGN KEY (quiz_id) REFERENCES quizzes(quiz_id) ON DELETE CASCADE\n",
    ")\n",
    "\"\"\"\n",
    "cursor.execute(sql)"
   ]
  },
  {
   "cell_type": "code",
   "execution_count": 163,
   "metadata": {},
   "outputs": [],
   "source": [
    "sql=\"\"\"\n",
    "CREATE TABLE IF NOT EXISTS options(\n",
    "option_id INT NOT NULL AUTO_INCREMENT PRIMARY KEY,\n",
    "question_id INT NOT NULL,\n",
    "option_text TEXT NOT NULL,\n",
    "is_correct BOOLEAN NOT NULL DEFAULT FALSE,\n",
    "created_at DATETIME NOT NULL DEFAULT CURRENT_TIMESTAMP,\n",
    "updated_at DATETIME NOT NULL DEFAULT CURRENT_TIMESTAMP ON UPDATE CURRENT_TIMESTAMP,\n",
    "FOREIGN KEY (question_id) REFERENCES quizzes(quiz_id) ON DELETE CASCADE\n",
    ")\n",
    "\"\"\"\n",
    "cursor.execute(sql)"
   ]
  },
  {
   "cell_type": "code",
   "execution_count": 164,
   "metadata": {},
   "outputs": [],
   "source": [
    "sql=\"\"\"\n",
    "CREATE TABLE IF NOT EXISTS user_answers(\n",
    "answer_id INT NOT NULL AUTO_INCREMENT PRIMARY KEY,\n",
    "user_id INT NOT NULL,\n",
    "question_id INT NOT NULL,\n",
    "selected_option_id INT NOT NULL,\n",
    "answer_text TEXT DEFAULT NULL,\n",
    "created_at DATETIME NOT NULL DEFAULT CURRENT_TIMESTAMP,\n",
    "updated_at DATETIME NOT NULL DEFAULT CURRENT_TIMESTAMP ON UPDATE CURRENT_TIMESTAMP,\n",
    "FOREIGN KEY (question_id) REFERENCES questions(questions_id) ON DELETE CASCADE,\n",
    "FOREIGN KEY (user_id) REFERENCES users(user_id) ON DELETE CASCADE,\n",
    "FOREIGN KEY (selected_option_id) REFERENCES options(option_id) ON DELETE CASCADE\n",
    ")\n",
    "\"\"\"\n",
    "cursor.execute(sql)"
   ]
  },
  {
   "cell_type": "code",
   "execution_count": 165,
   "metadata": {},
   "outputs": [
    {
     "ename": "ProgrammingError",
     "evalue": "1064 (42000): You have an error in your SQL syntax; check the manual that corresponds to your MySQL server version for the right syntax to use near ')' at line 12",
     "output_type": "error",
     "traceback": [
      "\u001b[1;31m---------------------------------------------------------------------------\u001b[0m",
      "\u001b[1;31mProgrammingError\u001b[0m                          Traceback (most recent call last)",
      "Cell \u001b[1;32mIn[165], line 15\u001b[0m\n\u001b[0;32m      1\u001b[0m sql\u001b[38;5;241m=\u001b[39m\u001b[38;5;124m\"\"\"\u001b[39m\n\u001b[0;32m      2\u001b[0m \u001b[38;5;124mCREATE TABLE IF NOT EXISTS quiz_results(\u001b[39m\n\u001b[0;32m      3\u001b[0m \u001b[38;5;124mresult_id INT NOT NULL AUTO_INCREMENT PRIMARY KEY,\u001b[39m\n\u001b[1;32m   (...)\u001b[0m\n\u001b[0;32m     13\u001b[0m \u001b[38;5;124m)\u001b[39m\n\u001b[0;32m     14\u001b[0m \u001b[38;5;124m\"\"\"\u001b[39m\n\u001b[1;32m---> 15\u001b[0m \u001b[43mcursor\u001b[49m\u001b[38;5;241;43m.\u001b[39;49m\u001b[43mexecute\u001b[49m\u001b[43m(\u001b[49m\u001b[43msql\u001b[49m\u001b[43m)\u001b[49m\n",
      "File \u001b[1;32mc:\\Users\\kikel\\AppData\\Local\\Programs\\Python\\Python313\\Lib\\site-packages\\mysql\\connector\\cursor.py:551\u001b[0m, in \u001b[0;36mMySQLCursor.execute\u001b[1;34m(self, operation, params, multi)\u001b[0m\n\u001b[0;32m    549\u001b[0m \u001b[38;5;28;01melse\u001b[39;00m:\n\u001b[0;32m    550\u001b[0m     \u001b[38;5;28;01mtry\u001b[39;00m:\n\u001b[1;32m--> 551\u001b[0m         \u001b[38;5;28mself\u001b[39m\u001b[38;5;241m.\u001b[39m_handle_result(\u001b[38;5;28;43mself\u001b[39;49m\u001b[38;5;241;43m.\u001b[39;49m\u001b[43m_connection\u001b[49m\u001b[38;5;241;43m.\u001b[39;49m\u001b[43mcmd_query\u001b[49m\u001b[43m(\u001b[49m\u001b[43mstmt\u001b[49m\u001b[43m)\u001b[49m)\n\u001b[0;32m    552\u001b[0m     \u001b[38;5;28;01mexcept\u001b[39;00m errors\u001b[38;5;241m.\u001b[39mInterfaceError:\n\u001b[0;32m    553\u001b[0m         \u001b[38;5;28;01mif\u001b[39;00m \u001b[38;5;28mself\u001b[39m\u001b[38;5;241m.\u001b[39m_connection\u001b[38;5;241m.\u001b[39m_have_next_result:  \u001b[38;5;66;03m# pylint: disable=W0212\u001b[39;00m\n",
      "File \u001b[1;32mc:\\Users\\kikel\\AppData\\Local\\Programs\\Python\\Python313\\Lib\\site-packages\\mysql\\connector\\connection.py:490\u001b[0m, in \u001b[0;36mMySQLConnection.cmd_query\u001b[1;34m(self, query, raw, buffered, raw_as_string)\u001b[0m\n\u001b[0;32m    488\u001b[0m \u001b[38;5;28;01mif\u001b[39;00m \u001b[38;5;129;01mnot\u001b[39;00m \u001b[38;5;28misinstance\u001b[39m(query, \u001b[38;5;28mbytes\u001b[39m):\n\u001b[0;32m    489\u001b[0m     query \u001b[38;5;241m=\u001b[39m query\u001b[38;5;241m.\u001b[39mencode(\u001b[38;5;124m'\u001b[39m\u001b[38;5;124mutf-8\u001b[39m\u001b[38;5;124m'\u001b[39m)\n\u001b[1;32m--> 490\u001b[0m result \u001b[38;5;241m=\u001b[39m \u001b[38;5;28;43mself\u001b[39;49m\u001b[38;5;241;43m.\u001b[39;49m\u001b[43m_handle_result\u001b[49m\u001b[43m(\u001b[49m\u001b[38;5;28;43mself\u001b[39;49m\u001b[38;5;241;43m.\u001b[39;49m\u001b[43m_send_cmd\u001b[49m\u001b[43m(\u001b[49m\u001b[43mServerCmd\u001b[49m\u001b[38;5;241;43m.\u001b[39;49m\u001b[43mQUERY\u001b[49m\u001b[43m,\u001b[49m\u001b[43m \u001b[49m\u001b[43mquery\u001b[49m\u001b[43m)\u001b[49m\u001b[43m)\u001b[49m\n\u001b[0;32m    492\u001b[0m \u001b[38;5;28;01mif\u001b[39;00m \u001b[38;5;28mself\u001b[39m\u001b[38;5;241m.\u001b[39m_have_next_result:\n\u001b[0;32m    493\u001b[0m     \u001b[38;5;28;01mraise\u001b[39;00m errors\u001b[38;5;241m.\u001b[39mInterfaceError(\n\u001b[0;32m    494\u001b[0m         \u001b[38;5;124m'\u001b[39m\u001b[38;5;124mUse cmd_query_iter for statements with multiple queries.\u001b[39m\u001b[38;5;124m'\u001b[39m)\n",
      "File \u001b[1;32mc:\\Users\\kikel\\AppData\\Local\\Programs\\Python\\Python313\\Lib\\site-packages\\mysql\\connector\\connection.py:395\u001b[0m, in \u001b[0;36mMySQLConnection._handle_result\u001b[1;34m(self, packet)\u001b[0m\n\u001b[0;32m    393\u001b[0m     \u001b[38;5;28;01mreturn\u001b[39;00m \u001b[38;5;28mself\u001b[39m\u001b[38;5;241m.\u001b[39m_handle_eof(packet)\n\u001b[0;32m    394\u001b[0m \u001b[38;5;28;01melif\u001b[39;00m packet[\u001b[38;5;241m4\u001b[39m] \u001b[38;5;241m==\u001b[39m \u001b[38;5;241m255\u001b[39m:\n\u001b[1;32m--> 395\u001b[0m     \u001b[38;5;28;01mraise\u001b[39;00m errors\u001b[38;5;241m.\u001b[39mget_exception(packet)\n\u001b[0;32m    397\u001b[0m \u001b[38;5;66;03m# We have a text result set\u001b[39;00m\n\u001b[0;32m    398\u001b[0m column_count \u001b[38;5;241m=\u001b[39m \u001b[38;5;28mself\u001b[39m\u001b[38;5;241m.\u001b[39m_protocol\u001b[38;5;241m.\u001b[39mparse_column_count(packet)\n",
      "\u001b[1;31mProgrammingError\u001b[0m: 1064 (42000): You have an error in your SQL syntax; check the manual that corresponds to your MySQL server version for the right syntax to use near ')' at line 12"
     ]
    }
   ],
   "source": [
    "sql=\"\"\"\n",
    "CREATE TABLE IF NOT EXISTS quiz_results(\n",
    "result_id INT NOT NULL AUTO_INCREMENT PRIMARY KEY,\n",
    "user_id INT NOT NULL,\n",
    "quiz_id INT NOT NULL,\n",
    "score DECIMAL(5,2) NOT NULL,\n",
    "max_score DECIMAL(5,2) NOT NULL,\n",
    "attempt_number INT DEFAULT 1,\n",
    "attempt_date DATETIME NOT NULL DEFAULT CURRENT_TIMESTAMP,\n",
    "completed_at DATETIME NOT NULL DEFAULT CURRENT_TIMESTAMP,\n",
    "FOREIGN KEY (quiz_id) REFERENCES quizzes(quiz_id) ON DELETE CASCADE,\n",
    "FOREIGN KEY (user_id) REFERENCES users(user_id) ON DELETE CASCADE,\n",
    ")\n",
    "\"\"\"\n",
    "cursor.execute(sql)"
   ]
  },
  {
   "cell_type": "code",
   "execution_count": null,
   "metadata": {},
   "outputs": [],
   "source": [
    "sql=\"\"\"\n",
    "CREATE TABLE IF NOT EXISTS user_point(\n",
    "point_id INT NOT NULL AUTO_INCREMENT PRIMARY KEY,\n",
    "user_id INT NOT NULL,\n",
    "activity VARCHAR(200) NOT NULL,\n",
    "points DECIMAL(5,2) NOT NULL,\n",
    "time_stamp DATETIME NOT NULL DEFAULT CURRENT_TIMESTAMP,\n",
    "FOREIGN KEY (user_id) REFERENCES users(user_id) ON DELETE CASCADE\n",
    ")\n",
    "\"\"\"\n",
    "cursor.execute(sql)"
   ]
  }
 ],
 "metadata": {
  "kernelspec": {
   "display_name": "Python 3",
   "language": "python",
   "name": "python3"
  },
  "language_info": {
   "codemirror_mode": {
    "name": "ipython",
    "version": 3
   },
   "file_extension": ".py",
   "mimetype": "text/x-python",
   "name": "python",
   "nbconvert_exporter": "python",
   "pygments_lexer": "ipython3",
   "version": "3.13.0"
  }
 },
 "nbformat": 4,
 "nbformat_minor": 2
}
