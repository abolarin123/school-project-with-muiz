{
 "cells": [
  {
   "cell_type": "code",
   "execution_count": 5,
   "metadata": {},
   "outputs": [
    {
     "name": "stdout",
     "output_type": "stream",
     "text": [
      "Requirement already satisfied: WTForms in c:\\users\\abolarin\\appdata\\local\\programs\\python\\python312\\lib\\site-packages (3.1.2)\n",
      "Requirement already satisfied: markupsafe in c:\\users\\abolarin\\appdata\\local\\programs\\python\\python312\\lib\\site-packages (from WTForms) (2.1.5)\n"
     ]
    },
    {
     "name": "stderr",
     "output_type": "stream",
     "text": [
      "\n",
      "[notice] A new release of pip is available: 24.2 -> 24.3.1\n",
      "[notice] To update, run: python.exe -m pip install --upgrade pip\n"
     ]
    }
   ],
   "source": [
    "! pip install WTForms"
   ]
  },
  {
   "cell_type": "code",
   "execution_count": 6,
   "metadata": {},
   "outputs": [
    {
     "name": "stdout",
     "output_type": "stream",
     "text": [
      "Requirement already satisfied: email_validator in c:\\users\\abolarin\\appdata\\local\\programs\\python\\python312\\lib\\site-packages (2.2.0)"
     ]
    },
    {
     "name": "stderr",
     "output_type": "stream",
     "text": [
      "\n",
      "[notice] A new release of pip is available: 24.2 -> 24.3.1\n",
      "[notice] To update, run: python.exe -m pip install --upgrade pip\n"
     ]
    },
    {
     "name": "stdout",
     "output_type": "stream",
     "text": [
      "\n",
      "Requirement already satisfied: dnspython>=2.0.0 in c:\\users\\abolarin\\appdata\\local\\programs\\python\\python312\\lib\\site-packages (from email_validator) (2.7.0)\n",
      "Requirement already satisfied: idna>=2.0.0 in c:\\users\\abolarin\\appdata\\local\\programs\\python\\python312\\lib\\site-packages (from email_validator) (3.10)\n"
     ]
    }
   ],
   "source": [
    "! pip install email_validator"
   ]
  },
  {
   "cell_type": "code",
   "execution_count": 7,
   "metadata": {},
   "outputs": [],
   "source": [
    "from wtforms import Form, StringField, EmailField, validators,IntegerField\n",
    "from wtforms.validators import DataRequired, Regexp , Length, EqualTo, Email, Optional"
   ]
  },
  {
   "cell_type": "code",
   "execution_count": null,
   "metadata": {},
   "outputs": [],
   "source": [
    "class RegistrationForm(Form):\n",
    "    first_name          =   StringField(\"First Name\", validators=[DataRequired()])\n",
    "    last_name           =   StringField(\"Last Name\", validators=[DataRequired()])\n",
    "    middle_name         =   StringField(\"Middle Name\", validators=[DataRequired()])\n",
    "    email               =   EmailField(\"Email\", validators=[DataRequired(), Email()])\n",
    "    password            =   StringField(\"Password\", validators=[DataRequired(), Length(min=6,max=20)])\n",
    "    confirm_password    =   StringField(\"Confirm Password\", validators=[DataRequired(), EqualTo('password')])\n",
    "    phone_number        =   StringField(\"Phone Number\", validators=[Optional(), Regexp(r'^\\+?[1-9]\\d{1,14}$', message=\"Enter a valid phone number\")])\n"
   ]
  },
  {
   "cell_type": "code",
   "execution_count": null,
   "metadata": {},
   "outputs": [],
   "source": [
    "class LoginForm(Form):\n",
    "    "
   ]
  }
 ],
 "metadata": {
  "kernelspec": {
   "display_name": "Python 3",
   "language": "python",
   "name": "python3"
  },
  "language_info": {
   "codemirror_mode": {
    "name": "ipython",
    "version": 3
   },
   "file_extension": ".py",
   "mimetype": "text/x-python",
   "name": "python",
   "nbconvert_exporter": "python",
   "pygments_lexer": "ipython3",
   "version": "3.12.6"
  }
 },
 "nbformat": 4,
 "nbformat_minor": 2
}
