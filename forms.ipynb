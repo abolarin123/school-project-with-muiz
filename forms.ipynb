{
 "cells": [
  {
   "cell_type": "code",
   "execution_count": 5,
   "metadata": {},
   "outputs": [
    {
     "name": "stdout",
     "output_type": "stream",
     "text": [
      "Requirement already satisfied: WTForms in c:\\users\\kikel\\appdata\\local\\programs\\python\\python313\\lib\\site-packages (3.2.1)\n",
      "Requirement already satisfied: markupsafe in c:\\users\\kikel\\appdata\\local\\programs\\python\\python313\\lib\\site-packages (from WTForms) (3.0.2)\n"
     ]
    }
   ],
   "source": [
    "! pip install WTForms"
   ]
  },
  {
   "cell_type": "code",
   "execution_count": 6,
   "metadata": {},
   "outputs": [
    {
     "name": "stdout",
     "output_type": "stream",
     "text": [
      "Requirement already satisfied: email_validator in c:\\users\\kikel\\appdata\\local\\programs\\python\\python313\\lib\\site-packages (2.2.0)\n",
      "Requirement already satisfied: dnspython>=2.0.0 in c:\\users\\kikel\\appdata\\local\\programs\\python\\python313\\lib\\site-packages (from email_validator) (2.7.0)\n",
      "Requirement already satisfied: idna>=2.0.0 in c:\\users\\kikel\\appdata\\local\\programs\\python\\python313\\lib\\site-packages (from email_validator) (3.10)\n"
     ]
    }
   ],
   "source": [
    "! pip install email_validator"
   ]
  },
  {
   "cell_type": "code",
   "execution_count": 7,
   "metadata": {},
   "outputs": [],
   "source": [
    "from wtforms import Form, StringField, EmailField, validators,IntegerField\n",
    "from wtforms.validators import DataRequired, Regexp "
   ]
  },
  {
   "cell_type": "code",
   "execution_count": 8,
   "metadata": {},
   "outputs": [],
   "source": [
    "class RegistrationForm(Form):\n",
    "    first_name=StringField(\"First Name\", validators=[validators.input_required()])\n",
    "    last_name=StringField(\"Last Name\", validators=[validators.input_required()])\n",
    "    middle_name=StringField(\"Middle Name\", validators=[validators.input_required()])\n",
    "    email=EmailField(\"Email\", validators=[validators.input_required(),validators.Email(message=\"enter a valid email adress\")])\n",
    "    password=StringField(\"Password\", validators=[validators.input_required(),validators.length(min=6,max=20)])\n",
    "    confirm_password=StringField(\"Password\", validators=[validators.input_required(),validators.length(min=6,max=20)])\n",
    "    phone_number=StringField(\"Phone Number\", validators=[DataRequired(),  Regexp(r'^\\+?[1-9]\\d{1,14}$', message=\"Enter a valid phone number\")])\n"
   ]
  }
 ],
 "metadata": {
  "kernelspec": {
   "display_name": "Python 3",
   "language": "python",
   "name": "python3"
  },
  "language_info": {
   "codemirror_mode": {
    "name": "ipython",
    "version": 3
   },
   "file_extension": ".py",
   "mimetype": "text/x-python",
   "name": "python",
   "nbconvert_exporter": "python",
   "pygments_lexer": "ipython3",
   "version": "3.13.0"
  }
 },
 "nbformat": 4,
 "nbformat_minor": 2
}
