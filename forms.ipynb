{
 "cells": [
  {
   "cell_type": "code",
   "execution_count": 1,
   "metadata": {},
   "outputs": [
    {
     "name": "stdout",
     "output_type": "stream",
     "text": [
      "Requirement already satisfied: WTForms in c:\\users\\kikel\\appdata\\local\\programs\\python\\python313\\lib\\site-packages (3.2.1)\n",
      "Requirement already satisfied: markupsafe in c:\\users\\kikel\\appdata\\local\\programs\\python\\python313\\lib\\site-packages (from WTForms) (3.0.2)\n"
     ]
    },
    {
     "name": "stderr",
     "output_type": "stream",
     "text": [
      "\n",
      "[notice] A new release of pip is available: 24.3.1 -> 25.0.1\n",
      "[notice] To update, run: python.exe -m pip install --upgrade pip\n"
     ]
    }
   ],
   "source": [
    "! pip install WTForms"
   ]
  },
  {
   "cell_type": "code",
   "execution_count": 2,
   "metadata": {},
   "outputs": [
    {
     "name": "stdout",
     "output_type": "stream",
     "text": [
      "Requirement already satisfied: email_validator in c:\\users\\kikel\\appdata\\local\\programs\\python\\python313\\lib\\site-packages (2.2.0)\n",
      "Requirement already satisfied: dnspython>=2.0.0 in c:\\users\\kikel\\appdata\\local\\programs\\python\\python313\\lib\\site-packages (from email_validator) (2.7.0)\n",
      "Requirement already satisfied: idna>=2.0.0 in c:\\users\\kikel\\appdata\\local\\programs\\python\\python313\\lib\\site-packages (from email_validator) (3.10)\n"
     ]
    },
    {
     "name": "stderr",
     "output_type": "stream",
     "text": [
      "\n",
      "[notice] A new release of pip is available: 24.3.1 -> 25.0.1\n",
      "[notice] To update, run: python.exe -m pip install --upgrade pip\n"
     ]
    }
   ],
   "source": [
    "! pip install email_validator"
   ]
  },
  {
   "cell_type": "code",
   "execution_count": 3,
   "metadata": {},
   "outputs": [],
   "source": [
    "from wtforms import Form, StringField, EmailField, validators,IntegerField\n",
    "from wtforms.validators import DataRequired, Regexp , Length, EqualTo, Email, Optional"
   ]
  },
  {
   "cell_type": "code",
   "execution_count": 4,
   "metadata": {},
   "outputs": [],
   "source": [
    "class RegistrationForm(Form):\n",
    "    first_name          =   StringField(\"First Name\", validators=[DataRequired()])\n",
    "    last_name           =   StringField(\"Last Name\", validators=[DataRequired()])\n",
    "    middle_name         =   StringField(\"Middle Name\", validators=[DataRequired()])\n",
    "    email               =   EmailField(\"Email\", validators=[DataRequired(), Email()])\n",
    "    password            =   StringField(\"Password\", validators=[DataRequired(), Length(min=6,max=20)])\n",
    "    confirm_password    =   StringField(\"Confirm Password\", validators=[DataRequired(), EqualTo('password')])\n",
    "    phone_number        =   StringField(\"Phone Number\", validators=[Optional(), Regexp(r'^\\+?[1-9]\\d{1,14}$', message=\"Enter a valid phone number\")])\n"
   ]
  },
  {
   "cell_type": "code",
   "execution_count": 5,
   "metadata": {},
   "outputs": [],
   "source": [
    "class LoginForm(Form):\n",
    "    email = EmailField(\"Email\", validators=[DataRequired(), Email()])\n",
    "    password = StringField(\"Password\", validators=[DataRequired(), Length(min=6,max=20)])\n",
    "    \n",
    "    "
   ]
  }
 ],
 "metadata": {
  "kernelspec": {
   "display_name": "Python 3",
   "language": "python",
   "name": "python3"
  },
  "language_info": {
   "codemirror_mode": {
    "name": "ipython",
    "version": 3
   },
   "file_extension": ".py",
   "mimetype": "text/x-python",
   "name": "python",
   "nbconvert_exporter": "python",
   "pygments_lexer": "ipython3",
   "version": "3.13.0"
  }
 },
 "nbformat": 4,
 "nbformat_minor": 2
}
