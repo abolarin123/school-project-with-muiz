{
 "cells": [
  {
   "cell_type": "code",
   "execution_count": null,
   "metadata": {},
   "outputs": [],
   "source": [
    "! pip install WTForms"
   ]
  },
  {
   "cell_type": "code",
   "execution_count": null,
   "metadata": {},
   "outputs": [],
   "source": [
    "! pip install email_validator"
   ]
  },
  {
   "cell_type": "code",
   "execution_count": 7,
   "metadata": {},
   "outputs": [],
   "source": [
    "from wtforms import Form, StringField, EmailField, validators,IntegerField\n",
    "from wtforms.validators import DataRequired, Regexp , Length, EqualTo, Email, Optional"
   ]
  },
  {
   "cell_type": "code",
   "execution_count": null,
   "metadata": {},
   "outputs": [],
   "source": [
    "class RegistrationForm(Form):\n",
    "    first_name          =   StringField(\"First Name\", validators=[DataRequired()])\n",
    "    last_name           =   StringField(\"Last Name\", validators=[DataRequired()])\n",
    "    middle_name         =   StringField(\"Middle Name\", validators=[DataRequired()])\n",
    "    email               =   EmailField(\"Email\", validators=[DataRequired(), Email()])\n",
    "    password            =   StringField(\"Password\", validators=[DataRequired(), Length(min=6,max=20)])\n",
    "    confirm_password    =   StringField(\"Confirm Password\", validators=[DataRequired(), EqualTo('password')])\n",
    "    phone_number        =   StringField(\"Phone Number\", validators=[Optional(), Regexp(r'^\\+?[1-9]\\d{1,14}$', message=\"Enter a valid phone number\")])\n"
   ]
  },
  {
   "cell_type": "code",
   "execution_count": null,
   "metadata": {},
   "outputs": [],
   "source": [
    "class LoginForm(Form):\n",
    "    email = EmailField(\"Email\", validators=[DataRequired(), Email()])\n",
    "    password = StringField(\"Password\", validators=[DataRequired(), Length(min=6,max=20)])\n",
    "    \n",
    "    "
   ]
  }
 ],
 "metadata": {
  "kernelspec": {
   "display_name": "Python 3",
   "language": "python",
   "name": "python3"
  },
  "language_info": {
   "codemirror_mode": {
    "name": "ipython",
    "version": 3
   },
   "file_extension": ".py",
   "mimetype": "text/x-python",
   "name": "python",
   "nbconvert_exporter": "python",
   "pygments_lexer": "ipython3",
   "version": "3.12.6"
  }
 },
 "nbformat": 4,
 "nbformat_minor": 2
}
