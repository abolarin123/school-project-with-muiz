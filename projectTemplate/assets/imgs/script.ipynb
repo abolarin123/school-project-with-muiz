{
 "cells": [
  {
   "cell_type": "code",
   "execution_count": 57,
   "metadata": {},
   "outputs": [],
   "source": [
    "import os"
   ]
  },
  {
   "cell_type": "code",
   "execution_count": 58,
   "metadata": {},
   "outputs": [],
   "source": [
    "import os\n",
    "\n",
    "def change_extension(file_path, new_extension):\n",
    "    base_name, _ = os.path.splitext(file_path)\n",
    "    new_file_path = base_name + \".\" + new_extension\n",
    "    os.rename(file_path, new_file_path)"
   ]
  },
  {
   "cell_type": "code",
   "execution_count": 61,
   "metadata": {},
   "outputs": [
    {
     "name": "stdout",
     "output_type": "stream",
     "text": [
      "hr-coordinator\n",
      "project-manager\n",
      "web-designer\n",
      "Successfully Changed\n"
     ]
    }
   ],
   "source": [
    "# Example usage:\n",
    "# for \n",
    "# change_extension(\"example.txt&quot\", \"html\")\n",
    "# print(\"Successfully Changed\")\n",
    "files = os.listdir()\n",
    "for file in files:\n",
    "    change_extension(file, \"html\")\n",
    "print(\"Successfully Changed\")"
   ]
  }
 ],
 "metadata": {
  "kernelspec": {
   "display_name": "Python 3",
   "language": "python",
   "name": "python3"
  },
  "language_info": {
   "codemirror_mode": {
    "name": "ipython",
    "version": 3
   },
   "file_extension": ".py",
   "mimetype": "text/x-python",
   "name": "python",
   "nbconvert_exporter": "python",
   "pygments_lexer": "ipython3",
   "version": "3.12.6"
  }
 },
 "nbformat": 4,
 "nbformat_minor": 2
}
